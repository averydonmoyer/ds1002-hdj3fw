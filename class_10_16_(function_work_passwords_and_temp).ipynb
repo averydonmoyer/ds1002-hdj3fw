{
  "nbformat": 4,
  "nbformat_minor": 0,
  "metadata": {
    "colab": {
      "provenance": [],
      "authorship_tag": "ABX9TyOxpn1068yiZoBvCI2+fO/M",
      "include_colab_link": true
    },
    "kernelspec": {
      "name": "python3",
      "display_name": "Python 3"
    },
    "language_info": {
      "name": "python"
    }
  },
  "cells": [
    {
      "cell_type": "markdown",
      "metadata": {
        "id": "view-in-github",
        "colab_type": "text"
      },
      "source": [
        "<a href=\"https://colab.research.google.com/github/averydonmoyer/ds1002-hdj3fw/blob/main/class_10_16_(function_work_passwords_and_temp).ipynb\" target=\"_parent\"><img src=\"https://colab.research.google.com/assets/colab-badge.svg\" alt=\"Open In Colab\"/></a>"
      ]
    },
    {
      "cell_type": "markdown",
      "source": [
        "## Learning Functions: Password Generator"
      ],
      "metadata": {
        "id": "fJM2HlfbzcFK"
      }
    },
    {
      "cell_type": "code",
      "execution_count": 1,
      "metadata": {
        "id": "KsiyxIJiyuwR"
      },
      "outputs": [],
      "source": [
        "import string\n",
        "import random"
      ]
    },
    {
      "cell_type": "code",
      "source": [
        "lc_letters = string.ascii_lowercase\n",
        "print(lc_letters)\n",
        "\n",
        "uc_letters = string.ascii_uppercase\n",
        "print(uc_letters)\n",
        "\n",
        "digits = string.digits\n",
        "print(digits)\n",
        "\n",
        "punc = string.punctuation\n",
        "print(punc)\n",
        "\n",
        "# concatonate them all together\n",
        "allchars = lc_letters + uc_letters + digits + punc"
      ],
      "metadata": {
        "colab": {
          "base_uri": "https://localhost:8080/"
        },
        "id": "YaeCO8r4zHwp",
        "outputId": "ff7cdfe0-540f-4db0-b60a-379a29724e77"
      },
      "execution_count": 12,
      "outputs": [
        {
          "output_type": "stream",
          "name": "stdout",
          "text": [
            "abcdefghijklmnopqrstuvwxyz\n",
            "ABCDEFGHIJKLMNOPQRSTUVWXYZ\n",
            "0123456789\n",
            "!\"#$%&'()*+,-./:;<=>?@[\\]^_`{|}~\n"
          ]
        }
      ]
    },
    {
      "cell_type": "code",
      "source": [
        "# random from only lowercase letters\n",
        "\n",
        "character = random.choice(lc_letters)\n",
        "print(character)"
      ],
      "metadata": {
        "colab": {
          "base_uri": "https://localhost:8080/"
        },
        "id": "EDSiW9k0zq4l",
        "outputId": "7442255a-7f1e-4aad-9360-afd9c1bde282"
      },
      "execution_count": 7,
      "outputs": [
        {
          "output_type": "stream",
          "name": "stdout",
          "text": [
            "y\n"
          ]
        }
      ]
    },
    {
      "cell_type": "code",
      "source": [
        "# random from all options that we concatonated above\n",
        "\n",
        "rando = random.choice(allchars)\n",
        "print(rando)"
      ],
      "metadata": {
        "colab": {
          "base_uri": "https://localhost:8080/"
        },
        "id": "8dRsIRJaz7ri",
        "outputId": "2fad4a25-9490-477c-fc77-87a6631f7d43"
      },
      "execution_count": 18,
      "outputs": [
        {
          "output_type": "stream",
          "name": "stdout",
          "text": [
            "a\n"
          ]
        }
      ]
    },
    {
      "cell_type": "code",
      "source": [
        "passwd = ''\n",
        "\n",
        "# build it by looping 8 times and adding a new random character every time\n",
        "for c in range(8):\n",
        "  passwd += random.choice(allchars)\n",
        "  passwd = passwd.replace(\"'\",\"\")\n",
        "  passwd = passwd.replace('\"','')\n",
        "\n",
        "print(passwd)"
      ],
      "metadata": {
        "colab": {
          "base_uri": "https://localhost:8080/"
        },
        "id": "6xeCkKFm0hr3",
        "outputId": "3bce6661-8c38-400c-ccee-b54169a0fb7b"
      },
      "execution_count": 22,
      "outputs": [
        {
          "output_type": "stream",
          "name": "stdout",
          "text": [
            "D)S%Ro+Z\n"
          ]
        }
      ]
    },
    {
      "cell_type": "code",
      "source": [
        "allchars = lc_letters + uc_letters + digits + punc\n",
        "\n",
        "# define a function to create a password\n",
        "\n",
        "def give_me_a_password():\n",
        "  passwd = ''\n",
        "  for i in range(8):\n",
        "    passwd += random.choice(allchars)\n",
        "  print(passwd)\n",
        "\n",
        "give_me_a_password()"
      ],
      "metadata": {
        "colab": {
          "base_uri": "https://localhost:8080/"
        },
        "id": "NzK9W2PP2gW4",
        "outputId": "edad6d74-209b-478f-f9d0-8b16f4c0d087"
      },
      "execution_count": 27,
      "outputs": [
        {
          "output_type": "stream",
          "name": "stdout",
          "text": [
            "0dZpa5\\s\n"
          ]
        }
      ]
    },
    {
      "cell_type": "code",
      "source": [
        "# change the length of the password\n",
        "\n",
        "allchars = lc_letters + uc_letters + digits + punc\n",
        "\n",
        "def give_me_a_password(length):\n",
        "  passwd = ''\n",
        "  for i in range(length):\n",
        "    passwd += random.choice(allchars)\n",
        "  print(passwd)\n",
        "\n",
        "give_me_a_password(44)"
      ],
      "metadata": {
        "colab": {
          "base_uri": "https://localhost:8080/"
        },
        "id": "QHJd3Is53kKY",
        "outputId": "59b6b5ce-eeef-4781-8f83-c2a44080891a"
      },
      "execution_count": 28,
      "outputs": [
        {
          "output_type": "stream",
          "name": "stdout",
          "text": [
            "Y+LZO-5\\4I3,XFgdWgE~Lk!4e;#(--[HU9%&G'IUMD$)\n"
          ]
        }
      ]
    },
    {
      "cell_type": "code",
      "source": [
        "def give_me_a_password(length):\n",
        "  passwd = ''\n",
        "  for i in range(length):\n",
        "    passwd += random.choice(allchars)\n",
        "  return(passwd)\n",
        "\n",
        "\n",
        "beatles = [\"John\",\"Paul\",\"Ringo\",\"George\"]\n",
        "\n",
        "for b in beatles:\n",
        "  passw = give_me_a_password(10)\n",
        "  print(b + ' ' + passw)"
      ],
      "metadata": {
        "colab": {
          "base_uri": "https://localhost:8080/"
        },
        "id": "nDep3Cup30L6",
        "outputId": "0431d9d3-9cc6-4057-9a9d-d41efbec64c4"
      },
      "execution_count": 35,
      "outputs": [
        {
          "output_type": "stream",
          "name": "stdout",
          "text": [
            "John LDsd[%7C]u\n",
            "Paul g(cbAjp*TZ\n",
            "Ringo yeg-Le;p_$\n",
            "George ?h)~L|rhvs\n"
          ]
        }
      ]
    },
    {
      "cell_type": "markdown",
      "source": [
        "## F to C to F converter"
      ],
      "metadata": {
        "id": "CgxoHxyP6Xlo"
      }
    },
    {
      "cell_type": "code",
      "source": [
        "def c_to_f(temp):\n",
        "  ftemp = (temp * 1.8) + 32\n",
        "  return ftemp"
      ],
      "metadata": {
        "id": "qatoIWYI6c5V"
      },
      "execution_count": 41,
      "outputs": []
    },
    {
      "cell_type": "code",
      "source": [
        "c_to_f(40)"
      ],
      "metadata": {
        "colab": {
          "base_uri": "https://localhost:8080/"
        },
        "id": "Shoc1zzg64Ya",
        "outputId": "c001b4d0-1927-4ce5-d298-a73cc341186a"
      },
      "execution_count": 42,
      "outputs": [
        {
          "output_type": "execute_result",
          "data": {
            "text/plain": [
              "104.0"
            ]
          },
          "metadata": {},
          "execution_count": 42
        }
      ]
    },
    {
      "cell_type": "code",
      "source": [
        "c_to_f(-32)"
      ],
      "metadata": {
        "colab": {
          "base_uri": "https://localhost:8080/"
        },
        "id": "g5OlWKVN7WAS",
        "outputId": "32422118-a560-4321-bbf9-1cbce68f04b5"
      },
      "execution_count": 43,
      "outputs": [
        {
          "output_type": "execute_result",
          "data": {
            "text/plain": [
              "-25.6"
            ]
          },
          "metadata": {},
          "execution_count": 43
        }
      ]
    },
    {
      "cell_type": "code",
      "source": [
        "# reverse it\n",
        "\n",
        "def f_to_c(temp):\n",
        "  ctemp = (temp -32) / 1.8\n",
        "  return ctemp"
      ],
      "metadata": {
        "id": "R_jh1CCX7blZ"
      },
      "execution_count": 44,
      "outputs": []
    },
    {
      "cell_type": "code",
      "source": [
        "f_to_c(104)"
      ],
      "metadata": {
        "colab": {
          "base_uri": "https://localhost:8080/"
        },
        "id": "WsEgBNpN7kk0",
        "outputId": "c8bb6668-7fc6-4cc6-982b-c5287f64737b"
      },
      "execution_count": 45,
      "outputs": [
        {
          "output_type": "execute_result",
          "data": {
            "text/plain": [
              "40.0"
            ]
          },
          "metadata": {},
          "execution_count": 45
        }
      ]
    },
    {
      "cell_type": "code",
      "source": [
        "def convert_temp(temp,unit):\n",
        "  # in case I want Celsius back\n",
        "  if unit == 'C':\n",
        "    return f_to_c(temp)\n",
        "  elif unit == 'F':\n",
        "    return c_to_f(temp)\n",
        "  else:\n",
        "    print(\"Hey you didn't give me either C or C\")\n",
        "\n",
        "convert_temp(40,\"F\")"
      ],
      "metadata": {
        "colab": {
          "base_uri": "https://localhost:8080/"
        },
        "id": "OczWCQ6-7zJd",
        "outputId": "ec7e34bd-bed9-4822-cd8d-5d26ed00003e"
      },
      "execution_count": 54,
      "outputs": [
        {
          "output_type": "execute_result",
          "data": {
            "text/plain": [
              "104.0"
            ]
          },
          "metadata": {},
          "execution_count": 54
        }
      ]
    }
  ]
}