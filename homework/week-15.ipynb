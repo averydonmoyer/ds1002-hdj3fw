{
  "nbformat": 4,
  "nbformat_minor": 0,
  "metadata": {
    "colab": {
      "provenance": [],
      "include_colab_link": true
    },
    "kernelspec": {
      "name": "ir",
      "display_name": "R"
    },
    "language_info": {
      "name": "R"
    }
  },
  "cells": [
    {
      "cell_type": "markdown",
      "metadata": {
        "id": "view-in-github",
        "colab_type": "text"
      },
      "source": [
        "<a href=\"https://colab.research.google.com/github/averydonmoyer/ds1002-hdj3fw/blob/main/homework/week-15.ipynb\" target=\"_parent\"><img src=\"https://colab.research.google.com/assets/colab-badge.svg\" alt=\"Open In Colab\"/></a>"
      ]
    },
    {
      "cell_type": "markdown",
      "source": [
        "# Homework - Week 15\n",
        "\n",
        "Complete the following blocks as specified in the directions. Run each cell to return the desired output. Save your notebook back to your GitHub repository and submit the GitHub URL to your notebook for review."
      ],
      "metadata": {
        "id": "sZruw3XQogej"
      }
    },
    {
      "cell_type": "markdown",
      "source": [
        "## 1. Create Functions (4 pts)\n",
        "\n",
        "Create two functions in the cells below, according to the prompts given."
      ],
      "metadata": {
        "id": "lkaofBQypx1X"
      }
    },
    {
      "cell_type": "code",
      "source": [
        "# create a function in R that:\n",
        "#   1. takes a single integer as an input parameter\n",
        "#   2. determines whether the integer is even or odd\n",
        "#   3. returns a character statement \"The integer <x> is even\" or \"The integer <x> is odd\" (replace <x> with the actual input provided)\n",
        "#\n",
        "# then execute the function twice using two different input values, displaying even and odd results.\n",
        "\n",
        "even_or_odd <- function(x) { if (x %% 2 == 0 ) {\n",
        "    return(c(\"The integer\", x, \"is even\"))\n",
        "  } else {\n",
        "    return(c(\"The integer\", x, \"is odd\"))\n",
        "  }\n",
        "}"
      ],
      "metadata": {
        "id": "1fjq5bkEp6Zv"
      },
      "execution_count": 11,
      "outputs": []
    },
    {
      "cell_type": "code",
      "source": [
        "even_or_odd(2)"
      ],
      "metadata": {
        "id": "xc2Yncj4-AIy",
        "outputId": "c72a1f80-708a-40fd-d82c-c24fbd065c44",
        "colab": {
          "base_uri": "https://localhost:8080/",
          "height": 34
        }
      },
      "execution_count": 12,
      "outputs": [
        {
          "output_type": "display_data",
          "data": {
            "text/html": [
              "<style>\n",
              ".list-inline {list-style: none; margin:0; padding: 0}\n",
              ".list-inline>li {display: inline-block}\n",
              ".list-inline>li:not(:last-child)::after {content: \"\\00b7\"; padding: 0 .5ex}\n",
              "</style>\n",
              "<ol class=list-inline><li>'The integer'</li><li>'2'</li><li>'is even'</li></ol>\n"
            ],
            "text/markdown": "1. 'The integer'\n2. '2'\n3. 'is even'\n\n\n",
            "text/latex": "\\begin{enumerate*}\n\\item 'The integer'\n\\item '2'\n\\item 'is even'\n\\end{enumerate*}\n",
            "text/plain": [
              "[1] \"The integer\" \"2\"           \"is even\"    "
            ]
          },
          "metadata": {}
        }
      ]
    },
    {
      "cell_type": "code",
      "source": [
        "even_or_odd(5)"
      ],
      "metadata": {
        "id": "i9WEfmkU-ijZ",
        "outputId": "b14f2c60-ffc7-440b-f3e3-9a2b9dc334d4",
        "colab": {
          "base_uri": "https://localhost:8080/",
          "height": 34
        }
      },
      "execution_count": 13,
      "outputs": [
        {
          "output_type": "display_data",
          "data": {
            "text/html": [
              "<style>\n",
              ".list-inline {list-style: none; margin:0; padding: 0}\n",
              ".list-inline>li {display: inline-block}\n",
              ".list-inline>li:not(:last-child)::after {content: \"\\00b7\"; padding: 0 .5ex}\n",
              "</style>\n",
              "<ol class=list-inline><li>'The integer'</li><li>'5'</li><li>'is odd'</li></ol>\n"
            ],
            "text/markdown": "1. 'The integer'\n2. '5'\n3. 'is odd'\n\n\n",
            "text/latex": "\\begin{enumerate*}\n\\item 'The integer'\n\\item '5'\n\\item 'is odd'\n\\end{enumerate*}\n",
            "text/plain": [
              "[1] \"The integer\" \"5\"           \"is odd\"     "
            ]
          },
          "metadata": {}
        }
      ]
    },
    {
      "cell_type": "code",
      "source": [
        "# create a function in R that:\n",
        "#   1. takes 4 integer input parameters\n",
        "#   2. returns the mean value of the inputs\n",
        "#   3. has default values for the 4 input parameters, in case they are not provided when the function is called.\n",
        "#\n",
        "# then execute the function twice: once where you provide the input values, and once where you do not.\n",
        "\n",
        "mean_value <- function(var1 = 2, var2 = 6, var3 = 19, var4 = 17) {\n",
        "  mean(c(var1, var2, var3, var4))\n",
        "}"
      ],
      "metadata": {
        "id": "f3IFD-T6p6Rd"
      },
      "execution_count": 20,
      "outputs": []
    },
    {
      "cell_type": "code",
      "source": [
        "mean_value()"
      ],
      "metadata": {
        "id": "aQRelSl9_H34",
        "outputId": "dd8358f7-99df-4226-dac4-cf266ad6c1d1",
        "colab": {
          "base_uri": "https://localhost:8080/",
          "height": 34
        }
      },
      "execution_count": 21,
      "outputs": [
        {
          "output_type": "display_data",
          "data": {
            "text/html": [
              "11"
            ],
            "text/markdown": "11",
            "text/latex": "11",
            "text/plain": [
              "[1] 11"
            ]
          },
          "metadata": {}
        }
      ]
    },
    {
      "cell_type": "code",
      "source": [
        "mean_value(14, 26, 5, 18)"
      ],
      "metadata": {
        "id": "e5miRChI_Jg9",
        "outputId": "47394bd4-9246-4702-f3c8-a15749b21d16",
        "colab": {
          "base_uri": "https://localhost:8080/",
          "height": 34
        }
      },
      "execution_count": 22,
      "outputs": [
        {
          "output_type": "display_data",
          "data": {
            "text/html": [
              "15.75"
            ],
            "text/markdown": "15.75",
            "text/latex": "15.75",
            "text/plain": [
              "[1] 15.75"
            ]
          },
          "metadata": {}
        }
      ]
    },
    {
      "cell_type": "markdown",
      "source": [
        "## 2. Plot Data (4 pts)"
      ],
      "metadata": {
        "id": "F6Rx0GIGrpOB"
      }
    },
    {
      "cell_type": "markdown",
      "source": [
        "In the cell below, write the code required to plot from the `msleep` sample data set.\n",
        "\n",
        "1. Display only animals with body weights of 30 or greater.\n",
        "2. Group the animals by `order`.\n",
        "3. Display the mean `sleep_total` for each group in a bar plot."
      ],
      "metadata": {
        "id": "IDLyOjOJsFCX"
      }
    },
    {
      "cell_type": "code",
      "source": [
        "#\n",
        "head(msleep)"
      ],
      "metadata": {
        "id": "0D5Ia-BPsoPZ",
        "outputId": "678fda33-833c-4634-f9c2-9d5e59d04c42",
        "colab": {
          "base_uri": "https://localhost:8080/",
          "height": 286
        }
      },
      "execution_count": 128,
      "outputs": [
        {
          "output_type": "display_data",
          "data": {
            "text/html": [
              "<table class=\"dataframe\">\n",
              "<caption>A tibble: 6 × 11</caption>\n",
              "<thead>\n",
              "\t<tr><th scope=col>name</th><th scope=col>genus</th><th scope=col>vore</th><th scope=col>order</th><th scope=col>conservation</th><th scope=col>sleep_total</th><th scope=col>sleep_rem</th><th scope=col>sleep_cycle</th><th scope=col>awake</th><th scope=col>brainwt</th><th scope=col>bodywt</th></tr>\n",
              "\t<tr><th scope=col>&lt;chr&gt;</th><th scope=col>&lt;chr&gt;</th><th scope=col>&lt;chr&gt;</th><th scope=col>&lt;chr&gt;</th><th scope=col>&lt;chr&gt;</th><th scope=col>&lt;dbl&gt;</th><th scope=col>&lt;dbl&gt;</th><th scope=col>&lt;dbl&gt;</th><th scope=col>&lt;dbl&gt;</th><th scope=col>&lt;dbl&gt;</th><th scope=col>&lt;dbl&gt;</th></tr>\n",
              "</thead>\n",
              "<tbody>\n",
              "\t<tr><td>Cheetah                   </td><td>Acinonyx  </td><td>carni</td><td>Carnivora   </td><td>lc          </td><td>12.1</td><td> NA</td><td>       NA</td><td>11.9</td><td>     NA</td><td> 50.000</td></tr>\n",
              "\t<tr><td>Owl monkey                </td><td>Aotus     </td><td>omni </td><td>Primates    </td><td>NA          </td><td>17.0</td><td>1.8</td><td>       NA</td><td> 7.0</td><td>0.01550</td><td>  0.480</td></tr>\n",
              "\t<tr><td>Mountain beaver           </td><td>Aplodontia</td><td>herbi</td><td>Rodentia    </td><td>nt          </td><td>14.4</td><td>2.4</td><td>       NA</td><td> 9.6</td><td>     NA</td><td>  1.350</td></tr>\n",
              "\t<tr><td>Greater short-tailed shrew</td><td>Blarina   </td><td>omni </td><td>Soricomorpha</td><td>lc          </td><td>14.9</td><td>2.3</td><td>0.1333333</td><td> 9.1</td><td>0.00029</td><td>  0.019</td></tr>\n",
              "\t<tr><td>Cow                       </td><td>Bos       </td><td>herbi</td><td>Artiodactyla</td><td>domesticated</td><td> 4.0</td><td>0.7</td><td>0.6666667</td><td>20.0</td><td>0.42300</td><td>600.000</td></tr>\n",
              "\t<tr><td>Three-toed sloth          </td><td>Bradypus  </td><td>herbi</td><td>Pilosa      </td><td>NA          </td><td>14.4</td><td>2.2</td><td>0.7666667</td><td> 9.6</td><td>     NA</td><td>  3.850</td></tr>\n",
              "</tbody>\n",
              "</table>\n"
            ],
            "text/markdown": "\nA tibble: 6 × 11\n\n| name &lt;chr&gt; | genus &lt;chr&gt; | vore &lt;chr&gt; | order &lt;chr&gt; | conservation &lt;chr&gt; | sleep_total &lt;dbl&gt; | sleep_rem &lt;dbl&gt; | sleep_cycle &lt;dbl&gt; | awake &lt;dbl&gt; | brainwt &lt;dbl&gt; | bodywt &lt;dbl&gt; |\n|---|---|---|---|---|---|---|---|---|---|---|\n| Cheetah                    | Acinonyx   | carni | Carnivora    | lc           | 12.1 |  NA |        NA | 11.9 |      NA |  50.000 |\n| Owl monkey                 | Aotus      | omni  | Primates     | NA           | 17.0 | 1.8 |        NA |  7.0 | 0.01550 |   0.480 |\n| Mountain beaver            | Aplodontia | herbi | Rodentia     | nt           | 14.4 | 2.4 |        NA |  9.6 |      NA |   1.350 |\n| Greater short-tailed shrew | Blarina    | omni  | Soricomorpha | lc           | 14.9 | 2.3 | 0.1333333 |  9.1 | 0.00029 |   0.019 |\n| Cow                        | Bos        | herbi | Artiodactyla | domesticated |  4.0 | 0.7 | 0.6666667 | 20.0 | 0.42300 | 600.000 |\n| Three-toed sloth           | Bradypus   | herbi | Pilosa       | NA           | 14.4 | 2.2 | 0.7666667 |  9.6 |      NA |   3.850 |\n\n",
            "text/latex": "A tibble: 6 × 11\n\\begin{tabular}{lllllllllll}\n name & genus & vore & order & conservation & sleep\\_total & sleep\\_rem & sleep\\_cycle & awake & brainwt & bodywt\\\\\n <chr> & <chr> & <chr> & <chr> & <chr> & <dbl> & <dbl> & <dbl> & <dbl> & <dbl> & <dbl>\\\\\n\\hline\n\t Cheetah                    & Acinonyx   & carni & Carnivora    & lc           & 12.1 &  NA &        NA & 11.9 &      NA &  50.000\\\\\n\t Owl monkey                 & Aotus      & omni  & Primates     & NA           & 17.0 & 1.8 &        NA &  7.0 & 0.01550 &   0.480\\\\\n\t Mountain beaver            & Aplodontia & herbi & Rodentia     & nt           & 14.4 & 2.4 &        NA &  9.6 &      NA &   1.350\\\\\n\t Greater short-tailed shrew & Blarina    & omni  & Soricomorpha & lc           & 14.9 & 2.3 & 0.1333333 &  9.1 & 0.00029 &   0.019\\\\\n\t Cow                        & Bos        & herbi & Artiodactyla & domesticated &  4.0 & 0.7 & 0.6666667 & 20.0 & 0.42300 & 600.000\\\\\n\t Three-toed sloth           & Bradypus   & herbi & Pilosa       & NA           & 14.4 & 2.2 & 0.7666667 &  9.6 &      NA &   3.850\\\\\n\\end{tabular}\n",
            "text/plain": [
              "  name                       genus      vore  order        conservation\n",
              "1 Cheetah                    Acinonyx   carni Carnivora    lc          \n",
              "2 Owl monkey                 Aotus      omni  Primates     NA          \n",
              "3 Mountain beaver            Aplodontia herbi Rodentia     nt          \n",
              "4 Greater short-tailed shrew Blarina    omni  Soricomorpha lc          \n",
              "5 Cow                        Bos        herbi Artiodactyla domesticated\n",
              "6 Three-toed sloth           Bradypus   herbi Pilosa       NA          \n",
              "  sleep_total sleep_rem sleep_cycle awake brainwt bodywt \n",
              "1 12.1         NA              NA   11.9       NA  50.000\n",
              "2 17.0        1.8              NA    7.0  0.01550   0.480\n",
              "3 14.4        2.4              NA    9.6       NA   1.350\n",
              "4 14.9        2.3       0.1333333    9.1  0.00029   0.019\n",
              "5  4.0        0.7       0.6666667   20.0  0.42300 600.000\n",
              "6 14.4        2.2       0.7666667    9.6       NA   3.850"
            ]
          },
          "metadata": {}
        }
      ]
    },
    {
      "cell_type": "code",
      "source": [
        "install.packages(\"ggplot2\")\n",
        "library(ggplot2)\n",
        "install.packages(\"tidyverse\")\n",
        "library(tidyverse)\n",
        "library(dplyr)"
      ],
      "metadata": {
        "id": "08eOslG6L5xr",
        "outputId": "f9848765-6eb2-4a89-bdd8-ab0b34cab1d8",
        "colab": {
          "base_uri": "https://localhost:8080/"
        }
      },
      "execution_count": 133,
      "outputs": [
        {
          "output_type": "stream",
          "name": "stderr",
          "text": [
            "Installing package into ‘/usr/local/lib/R/site-library’\n",
            "(as ‘lib’ is unspecified)\n",
            "\n",
            "Installing package into ‘/usr/local/lib/R/site-library’\n",
            "(as ‘lib’ is unspecified)\n",
            "\n"
          ]
        }
      ]
    },
    {
      "cell_type": "code",
      "source": [
        "new_msleep <- msleep %>%\n",
        "  filter(bodywt > 30)\n",
        "\n",
        "final_msleep <- new_msleep %>%\n",
        "  group_by(order) %>%\n",
        "  summarize(mean = mean(sleep_total))"
      ],
      "metadata": {
        "id": "Yj75Nl-UXllB"
      },
      "execution_count": 134,
      "outputs": []
    },
    {
      "cell_type": "code",
      "source": [
        "ggplot(final_msleep, aes(x = order, y = mean, fill = order)) + geom_bar(position = \"dodge\", stat = \"summary\", fun = \"mean\")"
      ],
      "metadata": {
        "id": "CHNjFmaLXowL",
        "outputId": "404896c1-dcc9-4125-d779-e0ba272f9658",
        "colab": {
          "base_uri": "https://localhost:8080/",
          "height": 437
        }
      },
      "execution_count": 135,
      "outputs": [
        {
          "output_type": "display_data",
          "data": {
            "text/plain": [
              "plot without title"
            ],
            "image/png": "[encoded data removed]"
          },
          "metadata": {
            "image/png": {
              "width": 420,
              "height": 420
            }
          }
        }
      ]
    },
    {
      "cell_type": "markdown",
      "source": [
        "## 3. Clean and Analyze Data Using R (4 pts)\n",
        "\n",
        "In the cells below use R to perform the following data cleaning steps on this file:\n",
        "https://raw.githubusercontent.com/nmagee/ds1002/main/data/social-media-users.csv\n",
        "\n",
        "1. Remove any duplicate rows.\n",
        "2. Remove any records where `last_login` or `birthdate` are empty.\n",
        "3. Display only the records with the 10 highest `follower` counts.\n",
        "4. Determine counts of users when grouped by continent."
      ],
      "metadata": {
        "id": "-2ZaFcCCv3o8"
      }
    },
    {
      "cell_type": "code",
      "source": [
        "df <- read.csv(\"https://raw.githubusercontent.com/nmagee/ds1002/main/data/social-media-users.csv\")\n",
        "head(df)"
      ],
      "metadata": {
        "id": "aS4L84-5ILyN",
        "outputId": "34197ecd-ed31-4f74-bd46-60021a2ffe25",
        "colab": {
          "base_uri": "https://localhost:8080/",
          "height": 286
        }
      },
      "execution_count": 76,
      "outputs": [
        {
          "output_type": "display_data",
          "data": {
            "text/html": [
              "<table class=\"dataframe\">\n",
              "<caption>A data.frame: 6 × 8</caption>\n",
              "<thead>\n",
              "\t<tr><th></th><th scope=col>username</th><th scope=col>full_name</th><th scope=col>birthdate</th><th scope=col>email</th><th scope=col>continent</th><th scope=col>followers</th><th scope=col>last_login</th><th scope=col>interests</th></tr>\n",
              "\t<tr><th></th><th scope=col>&lt;chr&gt;</th><th scope=col>&lt;chr&gt;</th><th scope=col>&lt;chr&gt;</th><th scope=col>&lt;chr&gt;</th><th scope=col>&lt;chr&gt;</th><th scope=col>&lt;int&gt;</th><th scope=col>&lt;chr&gt;</th><th scope=col>&lt;chr&gt;</th></tr>\n",
              "</thead>\n",
              "<tbody>\n",
              "\t<tr><th scope=row>1</th><td>ckippen0   </td><td>Clevey Kippen   </td><td>5/1/1991  </td><td>ckippen0@t-online.de  </td><td>NA</td><td>12362</td><td>5/16/2023 </td><td>music </td></tr>\n",
              "\t<tr><th scope=row>2</th><td>tgergler1  </td><td>Tedi Gergler    </td><td>10/5/1998 </td><td>tgergler1@salon.com   </td><td>NA</td><td>21360</td><td>8/20/2020 </td><td>sports</td></tr>\n",
              "\t<tr><th scope=row>3</th><td>spomfrett2 </td><td>Steffie Pomfrett</td><td>          </td><td>spomfrett2@imdb.com   </td><td>NA</td><td>19530</td><td>11/19/2022</td><td>sports</td></tr>\n",
              "\t<tr><th scope=row>4</th><td>rphettis3  </td><td>Ruddy Phettis   </td><td>6/18/1984 </td><td>rphettis3@npr.org     </td><td>EU</td><td>80047</td><td>9/20/2023 </td><td>travel</td></tr>\n",
              "\t<tr><th scope=row>5</th><td>ngilcriest4</td><td>Nico Gilcriest  </td><td>10/11/1993</td><td>ngilcriest4@dyndns.org</td><td>NA</td><td>33544</td><td>          </td><td>music </td></tr>\n",
              "\t<tr><th scope=row>6</th><td>fhampson5  </td><td>Farrell Hampson </td><td>11/7/1985 </td><td>fhampson5@lulu.com    </td><td>OC</td><td>72161</td><td>          </td><td>sports</td></tr>\n",
              "</tbody>\n",
              "</table>\n"
            ],
            "text/markdown": "\nA data.frame: 6 × 8\n\n| <!--/--> | username &lt;chr&gt; | full_name &lt;chr&gt; | birthdate &lt;chr&gt; | email &lt;chr&gt; | continent &lt;chr&gt; | followers &lt;int&gt; | last_login &lt;chr&gt; | interests &lt;chr&gt; |\n|---|---|---|---|---|---|---|---|---|\n| 1 | ckippen0    | Clevey Kippen    | 5/1/1991   | ckippen0@t-online.de   | NA | 12362 | 5/16/2023  | music  |\n| 2 | tgergler1   | Tedi Gergler     | 10/5/1998  | tgergler1@salon.com    | NA | 21360 | 8/20/2020  | sports |\n| 3 | spomfrett2  | Steffie Pomfrett | <!----> | spomfrett2@imdb.com    | NA | 19530 | 11/19/2022 | sports |\n| 4 | rphettis3   | Ruddy Phettis    | 6/18/1984  | rphettis3@npr.org      | EU | 80047 | 9/20/2023  | travel |\n| 5 | ngilcriest4 | Nico Gilcriest   | 10/11/1993 | ngilcriest4@dyndns.org | NA | 33544 | <!----> | music  |\n| 6 | fhampson5   | Farrell Hampson  | 11/7/1985  | fhampson5@lulu.com     | OC | 72161 | <!----> | sports |\n\n",
            "text/latex": "A data.frame: 6 × 8\n\\begin{tabular}{r|llllllll}\n  & username & full\\_name & birthdate & email & continent & followers & last\\_login & interests\\\\\n  & <chr> & <chr> & <chr> & <chr> & <chr> & <int> & <chr> & <chr>\\\\\n\\hline\n\t1 & ckippen0    & Clevey Kippen    & 5/1/1991   & ckippen0@t-online.de   & NA & 12362 & 5/16/2023  & music \\\\\n\t2 & tgergler1   & Tedi Gergler     & 10/5/1998  & tgergler1@salon.com    & NA & 21360 & 8/20/2020  & sports\\\\\n\t3 & spomfrett2  & Steffie Pomfrett &            & spomfrett2@imdb.com    & NA & 19530 & 11/19/2022 & sports\\\\\n\t4 & rphettis3   & Ruddy Phettis    & 6/18/1984  & rphettis3@npr.org      & EU & 80047 & 9/20/2023  & travel\\\\\n\t5 & ngilcriest4 & Nico Gilcriest   & 10/11/1993 & ngilcriest4@dyndns.org & NA & 33544 &            & music \\\\\n\t6 & fhampson5   & Farrell Hampson  & 11/7/1985  & fhampson5@lulu.com     & OC & 72161 &            & sports\\\\\n\\end{tabular}\n",
            "text/plain": [
              "  username    full_name        birthdate  email                  continent\n",
              "1 ckippen0    Clevey Kippen    5/1/1991   ckippen0@t-online.de   NA       \n",
              "2 tgergler1   Tedi Gergler     10/5/1998  tgergler1@salon.com    NA       \n",
              "3 spomfrett2  Steffie Pomfrett            spomfrett2@imdb.com    NA       \n",
              "4 rphettis3   Ruddy Phettis    6/18/1984  rphettis3@npr.org      EU       \n",
              "5 ngilcriest4 Nico Gilcriest   10/11/1993 ngilcriest4@dyndns.org NA       \n",
              "6 fhampson5   Farrell Hampson  11/7/1985  fhampson5@lulu.com     OC       \n",
              "  followers last_login interests\n",
              "1 12362     5/16/2023  music    \n",
              "2 21360     8/20/2020  sports   \n",
              "3 19530     11/19/2022 sports   \n",
              "4 80047     9/20/2023  travel   \n",
              "5 33544                music    \n",
              "6 72161                sports   "
            ]
          },
          "metadata": {}
        }
      ]
    },
    {
      "cell_type": "code",
      "source": [
        "# remove any duplicate rows\n",
        "\n",
        "df2 <- df[!duplicated(df), ]"
      ],
      "metadata": {
        "id": "V4nBsdVsyauQ"
      },
      "execution_count": 77,
      "outputs": []
    },
    {
      "cell_type": "code",
      "source": [
        "# remove any records where last_login or birthdate are empty\n",
        "\n",
        "df2[df2==\"\"] <- NA\n",
        "\n",
        "install.packages(\"tidyverse\")\n",
        "library(tidyverse)\n",
        "\n",
        "df3 <- df2 %>% drop_na(\"last_login\")\n",
        "df3 <- df2 %>% drop_na(\"birthdate\")"
      ],
      "metadata": {
        "id": "LwXD1sNulIT3",
        "outputId": "8c7d2b0b-7fc6-443a-8194-cdac9547b43c",
        "colab": {
          "base_uri": "https://localhost:8080/"
        }
      },
      "execution_count": 78,
      "outputs": [
        {
          "output_type": "stream",
          "name": "stderr",
          "text": [
            "Installing package into ‘/usr/local/lib/R/site-library’\n",
            "(as ‘lib’ is unspecified)\n",
            "\n"
          ]
        }
      ]
    },
    {
      "cell_type": "code",
      "source": [
        "# display only the records with the ten highest follower accounts\n",
        "\n",
        "df3 <- df3[order(df3$followers, decreasing = TRUE), ]\n",
        "head(df3, 10)"
      ],
      "metadata": {
        "id": "7qa100btlI4Z",
        "outputId": "d6228936-5e68-47e1-bf5e-119257e4cd76",
        "colab": {
          "base_uri": "https://localhost:8080/",
          "height": 412
        }
      },
      "execution_count": 79,
      "outputs": [
        {
          "output_type": "display_data",
          "data": {
            "text/html": [
              "<table class=\"dataframe\">\n",
              "<caption>A data.frame: 10 × 8</caption>\n",
              "<thead>\n",
              "\t<tr><th></th><th scope=col>username</th><th scope=col>full_name</th><th scope=col>birthdate</th><th scope=col>email</th><th scope=col>continent</th><th scope=col>followers</th><th scope=col>last_login</th><th scope=col>interests</th></tr>\n",
              "\t<tr><th></th><th scope=col>&lt;chr&gt;</th><th scope=col>&lt;chr&gt;</th><th scope=col>&lt;chr&gt;</th><th scope=col>&lt;chr&gt;</th><th scope=col>&lt;chr&gt;</th><th scope=col>&lt;int&gt;</th><th scope=col>&lt;chr&gt;</th><th scope=col>&lt;chr&gt;</th></tr>\n",
              "</thead>\n",
              "<tbody>\n",
              "\t<tr><th scope=row>345</th><td>lleckeyb6    </td><td>Lynne Leckey    </td><td>4/19/1998 </td><td>lleckeyb6@tripadvisor.com         </td><td>SA</td><td>99977</td><td>3/14/2021 </td><td>sports</td></tr>\n",
              "\t<tr><th scope=row>309</th><td>spharoaha2   </td><td>Staci Pharoah   </td><td>9/2/1985  </td><td>spharoaha2@sfgate.com             </td><td>NA</td><td>99905</td><td>10/26/2023</td><td>sports</td></tr>\n",
              "\t<tr><th scope=row>810</th><td>dpagettqf    </td><td>Des Pagett      </td><td>4/1/1992  </td><td>dpagettqf@360.cn                  </td><td>NA</td><td>99854</td><td>NA        </td><td>music </td></tr>\n",
              "\t<tr><th scope=row>434</th><td>cduftondy    </td><td>Celisse Dufton  </td><td>8/24/1995 </td><td>cduftondy@ox.ac.uk                </td><td>OC</td><td>99707</td><td>9/26/2021 </td><td>sports</td></tr>\n",
              "\t<tr><th scope=row>222</th><td>dbartalin77  </td><td>Desiree Bartalin</td><td>8/23/1993 </td><td>dbartalin77@usda.gov              </td><td>AF</td><td>99618</td><td>5/30/2022 </td><td>music </td></tr>\n",
              "\t<tr><th scope=row>695</th><td>grivardmp    </td><td>Gwen Rivard     </td><td>9/12/1982 </td><td>grivardmp@google.com.hk           </td><td>OC</td><td>99526</td><td>4/4/2020  </td><td>music </td></tr>\n",
              "\t<tr><th scope=row>289</th><td>mraggitt9g   </td><td>Morgan Raggitt  </td><td>11/16/1992</td><td>mraggitt9g@home.pl                </td><td>NA</td><td>99508</td><td>11/12/2021</td><td>music </td></tr>\n",
              "\t<tr><th scope=row>113</th><td>vshallcrass3p</td><td>Vally Shallcrass</td><td>9/26/2002 </td><td>vshallcrass3p@pagesperso-orange.fr</td><td>NA</td><td>99419</td><td>NA        </td><td>music </td></tr>\n",
              "\t<tr><th scope=row>441</th><td>wbenese7     </td><td>Wain Benes      </td><td>3/9/1998  </td><td>wbenese7@ebay.com                 </td><td>NA</td><td>99400</td><td>10/1/2021 </td><td>travel</td></tr>\n",
              "\t<tr><th scope=row>273</th><td>ctootal8y    </td><td>Cal Tootal      </td><td>11/24/1999</td><td>ctootal8y@cocolog-nifty.com       </td><td>NA</td><td>99048</td><td>NA        </td><td>travel</td></tr>\n",
              "</tbody>\n",
              "</table>\n"
            ],
            "text/markdown": "\nA data.frame: 10 × 8\n\n| <!--/--> | username &lt;chr&gt; | full_name &lt;chr&gt; | birthdate &lt;chr&gt; | email &lt;chr&gt; | continent &lt;chr&gt; | followers &lt;int&gt; | last_login &lt;chr&gt; | interests &lt;chr&gt; |\n|---|---|---|---|---|---|---|---|---|\n| 345 | lleckeyb6     | Lynne Leckey     | 4/19/1998  | lleckeyb6@tripadvisor.com          | SA | 99977 | 3/14/2021  | sports |\n| 309 | spharoaha2    | Staci Pharoah    | 9/2/1985   | spharoaha2@sfgate.com              | NA | 99905 | 10/26/2023 | sports |\n| 810 | dpagettqf     | Des Pagett       | 4/1/1992   | dpagettqf@360.cn                   | NA | 99854 | NA         | music  |\n| 434 | cduftondy     | Celisse Dufton   | 8/24/1995  | cduftondy@ox.ac.uk                 | OC | 99707 | 9/26/2021  | sports |\n| 222 | dbartalin77   | Desiree Bartalin | 8/23/1993  | dbartalin77@usda.gov               | AF | 99618 | 5/30/2022  | music  |\n| 695 | grivardmp     | Gwen Rivard      | 9/12/1982  | grivardmp@google.com.hk            | OC | 99526 | 4/4/2020   | music  |\n| 289 | mraggitt9g    | Morgan Raggitt   | 11/16/1992 | mraggitt9g@home.pl                 | NA | 99508 | 11/12/2021 | music  |\n| 113 | vshallcrass3p | Vally Shallcrass | 9/26/2002  | vshallcrass3p@pagesperso-orange.fr | NA | 99419 | NA         | music  |\n| 441 | wbenese7      | Wain Benes       | 3/9/1998   | wbenese7@ebay.com                  | NA | 99400 | 10/1/2021  | travel |\n| 273 | ctootal8y     | Cal Tootal       | 11/24/1999 | ctootal8y@cocolog-nifty.com        | NA | 99048 | NA         | travel |\n\n",
            "text/latex": "A data.frame: 10 × 8\n\\begin{tabular}{r|llllllll}\n  & username & full\\_name & birthdate & email & continent & followers & last\\_login & interests\\\\\n  & <chr> & <chr> & <chr> & <chr> & <chr> & <int> & <chr> & <chr>\\\\\n\\hline\n\t345 & lleckeyb6     & Lynne Leckey     & 4/19/1998  & lleckeyb6@tripadvisor.com          & SA & 99977 & 3/14/2021  & sports\\\\\n\t309 & spharoaha2    & Staci Pharoah    & 9/2/1985   & spharoaha2@sfgate.com              & NA & 99905 & 10/26/2023 & sports\\\\\n\t810 & dpagettqf     & Des Pagett       & 4/1/1992   & dpagettqf@360.cn                   & NA & 99854 & NA         & music \\\\\n\t434 & cduftondy     & Celisse Dufton   & 8/24/1995  & cduftondy@ox.ac.uk                 & OC & 99707 & 9/26/2021  & sports\\\\\n\t222 & dbartalin77   & Desiree Bartalin & 8/23/1993  & dbartalin77@usda.gov               & AF & 99618 & 5/30/2022  & music \\\\\n\t695 & grivardmp     & Gwen Rivard      & 9/12/1982  & grivardmp@google.com.hk            & OC & 99526 & 4/4/2020   & music \\\\\n\t289 & mraggitt9g    & Morgan Raggitt   & 11/16/1992 & mraggitt9g@home.pl                 & NA & 99508 & 11/12/2021 & music \\\\\n\t113 & vshallcrass3p & Vally Shallcrass & 9/26/2002  & vshallcrass3p@pagesperso-orange.fr & NA & 99419 & NA         & music \\\\\n\t441 & wbenese7      & Wain Benes       & 3/9/1998   & wbenese7@ebay.com                  & NA & 99400 & 10/1/2021  & travel\\\\\n\t273 & ctootal8y     & Cal Tootal       & 11/24/1999 & ctootal8y@cocolog-nifty.com        & NA & 99048 & NA         & travel\\\\\n\\end{tabular}\n",
            "text/plain": [
              "    username      full_name        birthdate \n",
              "345 lleckeyb6     Lynne Leckey     4/19/1998 \n",
              "309 spharoaha2    Staci Pharoah    9/2/1985  \n",
              "810 dpagettqf     Des Pagett       4/1/1992  \n",
              "434 cduftondy     Celisse Dufton   8/24/1995 \n",
              "222 dbartalin77   Desiree Bartalin 8/23/1993 \n",
              "695 grivardmp     Gwen Rivard      9/12/1982 \n",
              "289 mraggitt9g    Morgan Raggitt   11/16/1992\n",
              "113 vshallcrass3p Vally Shallcrass 9/26/2002 \n",
              "441 wbenese7      Wain Benes       3/9/1998  \n",
              "273 ctootal8y     Cal Tootal       11/24/1999\n",
              "    email                              continent followers last_login interests\n",
              "345 lleckeyb6@tripadvisor.com          SA        99977     3/14/2021  sports   \n",
              "309 spharoaha2@sfgate.com              NA        99905     10/26/2023 sports   \n",
              "810 dpagettqf@360.cn                   NA        99854     NA         music    \n",
              "434 cduftondy@ox.ac.uk                 OC        99707     9/26/2021  sports   \n",
              "222 dbartalin77@usda.gov               AF        99618     5/30/2022  music    \n",
              "695 grivardmp@google.com.hk            OC        99526     4/4/2020   music    \n",
              "289 mraggitt9g@home.pl                 NA        99508     11/12/2021 music    \n",
              "113 vshallcrass3p@pagesperso-orange.fr NA        99419     NA         music    \n",
              "441 wbenese7@ebay.com                  NA        99400     10/1/2021  travel   \n",
              "273 ctootal8y@cocolog-nifty.com        NA        99048     NA         travel   "
            ]
          },
          "metadata": {}
        }
      ]
    },
    {
      "cell_type": "code",
      "source": [
        "# determine counts of users when grouped by continent\n",
        "\n",
        "group_count <- df %>% count(continent)\n",
        "group_count"
      ],
      "metadata": {
        "id": "MjrZisnxlJUa",
        "outputId": "8333f471-181c-471c-c386-0854923878f1",
        "colab": {
          "base_uri": "https://localhost:8080/",
          "height": 318
        }
      },
      "execution_count": 86,
      "outputs": [
        {
          "output_type": "display_data",
          "data": {
            "text/html": [
              "<table class=\"dataframe\">\n",
              "<caption>A data.frame: 7 × 2</caption>\n",
              "<thead>\n",
              "\t<tr><th scope=col>continent</th><th scope=col>n</th></tr>\n",
              "\t<tr><th scope=col>&lt;chr&gt;</th><th scope=col>&lt;int&gt;</th></tr>\n",
              "</thead>\n",
              "<tbody>\n",
              "\t<tr><td>AF</td><td>127</td></tr>\n",
              "\t<tr><td>AN</td><td>  1</td></tr>\n",
              "\t<tr><td>AS</td><td>260</td></tr>\n",
              "\t<tr><td>EU</td><td>172</td></tr>\n",
              "\t<tr><td>OC</td><td>187</td></tr>\n",
              "\t<tr><td>SA</td><td>107</td></tr>\n",
              "\t<tr><td>NA</td><td>464</td></tr>\n",
              "</tbody>\n",
              "</table>\n"
            ],
            "text/markdown": "\nA data.frame: 7 × 2\n\n| continent &lt;chr&gt; | n &lt;int&gt; |\n|---|---|\n| AF | 127 |\n| AN |   1 |\n| AS | 260 |\n| EU | 172 |\n| OC | 187 |\n| SA | 107 |\n| NA | 464 |\n\n",
            "text/latex": "A data.frame: 7 × 2\n\\begin{tabular}{ll}\n continent & n\\\\\n <chr> & <int>\\\\\n\\hline\n\t AF & 127\\\\\n\t AN &   1\\\\\n\t AS & 260\\\\\n\t EU & 172\\\\\n\t OC & 187\\\\\n\t SA & 107\\\\\n\t NA & 464\\\\\n\\end{tabular}\n",
            "text/plain": [
              "  continent n  \n",
              "1 AF        127\n",
              "2 AN          1\n",
              "3 AS        260\n",
              "4 EU        172\n",
              "5 OC        187\n",
              "6 SA        107\n",
              "7 NA        464"
            ]
          },
          "metadata": {}
        }
      ]
    }
  ]
}