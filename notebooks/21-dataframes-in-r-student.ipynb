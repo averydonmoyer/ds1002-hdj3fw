{
  "nbformat": 4,
  "nbformat_minor": 0,
  "metadata": {
    "colab": {
      "provenance": [],
      "include_colab_link": true
    },
    "kernelspec": {
      "name": "ir",
      "display_name": "R"
    },
    "language_info": {
      "name": "R"
    }
  },
  "cells": [
    {
      "cell_type": "markdown",
      "metadata": {
        "id": "view-in-github",
        "colab_type": "text"
      },
      "source": [
        "<a href=\"https://colab.research.google.com/github/averydonmoyer/ds1002-hdj3fw/blob/main/notebooks/21-dataframes-in-r-student.ipynb\" target=\"_parent\"><img src=\"https://colab.research.google.com/assets/colab-badge.svg\" alt=\"Open In Colab\"/></a>"
      ]
    },
    {
      "cell_type": "markdown",
      "source": [
        "# Data Frames in R\n",
        "\n",
        "Build a data frame by hand."
      ],
      "metadata": {
        "id": "n9Hyle2zcFZx"
      }
    },
    {
      "cell_type": "code",
      "execution_count": 1,
      "metadata": {
        "id": "zZJftFYrcFIb"
      },
      "outputs": [],
      "source": [
        "album <- c(\"The Low End Theory\", \"Nevermind\", \"Port of Morrow\",\n",
        "           \"Dark Side of the Moon\", \"Naked\", \"OK Computer\",\n",
        "           \"Abbey Road\", \"Thriller\", \"Rumours\", \"The Joshua Tree\")\n",
        "year <- c(1991, 1991, 2012, 1973, 1988, 1997, 1969, 1982, 1977, 1987)\n",
        "digital <- c(FALSE, FALSE, TRUE, FALSE, TRUE, TRUE, FALSE, FALSE, FALSE, TRUE)\n",
        "\n",
        "df <- data.frame(Album = album, Year = year, Digital = digital)"
      ]
    },
    {
      "cell_type": "code",
      "source": [
        "# display the df\n",
        "\n",
        "df"
      ],
      "metadata": {
        "id": "X_sJF7WYcQBs",
        "outputId": "a7604f3e-6851-424e-c137-d6811ec8be89",
        "colab": {
          "base_uri": "https://localhost:8080/",
          "height": 412
        }
      },
      "execution_count": 2,
      "outputs": [
        {
          "output_type": "display_data",
          "data": {
            "text/html": [
              "<table class=\"dataframe\">\n",
              "<caption>A data.frame: 10 × 3</caption>\n",
              "<thead>\n",
              "\t<tr><th scope=col>Album</th><th scope=col>Year</th><th scope=col>Digital</th></tr>\n",
              "\t<tr><th scope=col>&lt;chr&gt;</th><th scope=col>&lt;dbl&gt;</th><th scope=col>&lt;lgl&gt;</th></tr>\n",
              "</thead>\n",
              "<tbody>\n",
              "\t<tr><td>The Low End Theory   </td><td>1991</td><td>FALSE</td></tr>\n",
              "\t<tr><td>Nevermind            </td><td>1991</td><td>FALSE</td></tr>\n",
              "\t<tr><td>Port of Morrow       </td><td>2012</td><td> TRUE</td></tr>\n",
              "\t<tr><td>Dark Side of the Moon</td><td>1973</td><td>FALSE</td></tr>\n",
              "\t<tr><td>Naked                </td><td>1988</td><td> TRUE</td></tr>\n",
              "\t<tr><td>OK Computer          </td><td>1997</td><td> TRUE</td></tr>\n",
              "\t<tr><td>Abbey Road           </td><td>1969</td><td>FALSE</td></tr>\n",
              "\t<tr><td>Thriller             </td><td>1982</td><td>FALSE</td></tr>\n",
              "\t<tr><td>Rumours              </td><td>1977</td><td>FALSE</td></tr>\n",
              "\t<tr><td>The Joshua Tree      </td><td>1987</td><td> TRUE</td></tr>\n",
              "</tbody>\n",
              "</table>\n"
            ],
            "text/markdown": "\nA data.frame: 10 × 3\n\n| Album &lt;chr&gt; | Year &lt;dbl&gt; | Digital &lt;lgl&gt; |\n|---|---|---|\n| The Low End Theory    | 1991 | FALSE |\n| Nevermind             | 1991 | FALSE |\n| Port of Morrow        | 2012 |  TRUE |\n| Dark Side of the Moon | 1973 | FALSE |\n| Naked                 | 1988 |  TRUE |\n| OK Computer           | 1997 |  TRUE |\n| Abbey Road            | 1969 | FALSE |\n| Thriller              | 1982 | FALSE |\n| Rumours               | 1977 | FALSE |\n| The Joshua Tree       | 1987 |  TRUE |\n\n",
            "text/latex": "A data.frame: 10 × 3\n\\begin{tabular}{lll}\n Album & Year & Digital\\\\\n <chr> & <dbl> & <lgl>\\\\\n\\hline\n\t The Low End Theory    & 1991 & FALSE\\\\\n\t Nevermind             & 1991 & FALSE\\\\\n\t Port of Morrow        & 2012 &  TRUE\\\\\n\t Dark Side of the Moon & 1973 & FALSE\\\\\n\t Naked                 & 1988 &  TRUE\\\\\n\t OK Computer           & 1997 &  TRUE\\\\\n\t Abbey Road            & 1969 & FALSE\\\\\n\t Thriller              & 1982 & FALSE\\\\\n\t Rumours               & 1977 & FALSE\\\\\n\t The Joshua Tree       & 1987 &  TRUE\\\\\n\\end{tabular}\n",
            "text/plain": [
              "   Album                 Year Digital\n",
              "1  The Low End Theory    1991 FALSE  \n",
              "2  Nevermind             1991 FALSE  \n",
              "3  Port of Morrow        2012  TRUE  \n",
              "4  Dark Side of the Moon 1973 FALSE  \n",
              "5  Naked                 1988  TRUE  \n",
              "6  OK Computer           1997  TRUE  \n",
              "7  Abbey Road            1969 FALSE  \n",
              "8  Thriller              1982 FALSE  \n",
              "9  Rumours               1977 FALSE  \n",
              "10 The Joshua Tree       1987  TRUE  "
            ]
          },
          "metadata": {}
        }
      ]
    },
    {
      "cell_type": "markdown",
      "source": [
        "#Column Naming"
      ],
      "metadata": {
        "id": "p_1Lb8sm0U2j"
      }
    },
    {
      "cell_type": "code",
      "source": [
        "names(df) <- c(\"Album\",\"Year\",\"Digital\")"
      ],
      "metadata": {
        "id": "OQ-afXJ40ain"
      },
      "execution_count": 4,
      "outputs": []
    },
    {
      "cell_type": "markdown",
      "source": [
        "## Insert a Column"
      ],
      "metadata": {
        "id": "GlkoOWfzpiTp"
      }
    },
    {
      "cell_type": "code",
      "source": [
        "df$Album\n",
        "\n",
        "# pulling out individual columns as vectors"
      ],
      "metadata": {
        "id": "-9oMqTMOpk73",
        "outputId": "e0621158-8bf4-4875-cd15-07bb531324ab",
        "colab": {
          "base_uri": "https://localhost:8080/",
          "height": 34
        }
      },
      "execution_count": 3,
      "outputs": [
        {
          "output_type": "display_data",
          "data": {
            "text/html": [
              "<style>\n",
              ".list-inline {list-style: none; margin:0; padding: 0}\n",
              ".list-inline>li {display: inline-block}\n",
              ".list-inline>li:not(:last-child)::after {content: \"\\00b7\"; padding: 0 .5ex}\n",
              "</style>\n",
              "<ol class=list-inline><li>'The Low End Theory'</li><li>'Nevermind'</li><li>'Port of Morrow'</li><li>'Dark Side of the Moon'</li><li>'Naked'</li><li>'OK Computer'</li><li>'Abbey Road'</li><li>'Thriller'</li><li>'Rumours'</li><li>'The Joshua Tree'</li></ol>\n"
            ],
            "text/markdown": "1. 'The Low End Theory'\n2. 'Nevermind'\n3. 'Port of Morrow'\n4. 'Dark Side of the Moon'\n5. 'Naked'\n6. 'OK Computer'\n7. 'Abbey Road'\n8. 'Thriller'\n9. 'Rumours'\n10. 'The Joshua Tree'\n\n\n",
            "text/latex": "\\begin{enumerate*}\n\\item 'The Low End Theory'\n\\item 'Nevermind'\n\\item 'Port of Morrow'\n\\item 'Dark Side of the Moon'\n\\item 'Naked'\n\\item 'OK Computer'\n\\item 'Abbey Road'\n\\item 'Thriller'\n\\item 'Rumours'\n\\item 'The Joshua Tree'\n\\end{enumerate*}\n",
            "text/plain": [
              " [1] \"The Low End Theory\"    \"Nevermind\"             \"Port of Morrow\"       \n",
              " [4] \"Dark Side of the Moon\" \"Naked\"                 \"OK Computer\"          \n",
              " [7] \"Abbey Road\"            \"Thriller\"              \"Rumours\"              \n",
              "[10] \"The Joshua Tree\"      "
            ]
          },
          "metadata": {}
        }
      ]
    },
    {
      "cell_type": "code",
      "source": [
        "df$Artist <- c(\"A Tribe Called Quest\", \"Nirvana\", \"The Shins\",\"Pink Floyd\",\"Talking Heads\",\"Radiohead\",\"The Beatles\",\"Michael Jackson\",\"Fleetwood Mac\",\"U2\")"
      ],
      "metadata": {
        "id": "NAXkwf3g01m6"
      },
      "execution_count": 5,
      "outputs": []
    },
    {
      "cell_type": "code",
      "source": [
        "df"
      ],
      "metadata": {
        "id": "022W73Ko1nnO",
        "outputId": "43de3807-b98e-4150-a58e-427e0961495a",
        "colab": {
          "base_uri": "https://localhost:8080/",
          "height": 412
        }
      },
      "execution_count": 6,
      "outputs": [
        {
          "output_type": "display_data",
          "data": {
            "text/html": [
              "<table class=\"dataframe\">\n",
              "<caption>A data.frame: 10 × 4</caption>\n",
              "<thead>\n",
              "\t<tr><th scope=col>Album</th><th scope=col>Year</th><th scope=col>Digital</th><th scope=col>Artist</th></tr>\n",
              "\t<tr><th scope=col>&lt;chr&gt;</th><th scope=col>&lt;dbl&gt;</th><th scope=col>&lt;lgl&gt;</th><th scope=col>&lt;chr&gt;</th></tr>\n",
              "</thead>\n",
              "<tbody>\n",
              "\t<tr><td>The Low End Theory   </td><td>1991</td><td>FALSE</td><td>A Tribe Called Quest</td></tr>\n",
              "\t<tr><td>Nevermind            </td><td>1991</td><td>FALSE</td><td>Nirvana             </td></tr>\n",
              "\t<tr><td>Port of Morrow       </td><td>2012</td><td> TRUE</td><td>The Shins           </td></tr>\n",
              "\t<tr><td>Dark Side of the Moon</td><td>1973</td><td>FALSE</td><td>Pink Floyd          </td></tr>\n",
              "\t<tr><td>Naked                </td><td>1988</td><td> TRUE</td><td>Talking Heads       </td></tr>\n",
              "\t<tr><td>OK Computer          </td><td>1997</td><td> TRUE</td><td>Radiohead           </td></tr>\n",
              "\t<tr><td>Abbey Road           </td><td>1969</td><td>FALSE</td><td>The Beatles         </td></tr>\n",
              "\t<tr><td>Thriller             </td><td>1982</td><td>FALSE</td><td>Michael Jackson     </td></tr>\n",
              "\t<tr><td>Rumours              </td><td>1977</td><td>FALSE</td><td>Fleetwood Mac       </td></tr>\n",
              "\t<tr><td>The Joshua Tree      </td><td>1987</td><td> TRUE</td><td>U2                  </td></tr>\n",
              "</tbody>\n",
              "</table>\n"
            ],
            "text/markdown": "\nA data.frame: 10 × 4\n\n| Album &lt;chr&gt; | Year &lt;dbl&gt; | Digital &lt;lgl&gt; | Artist &lt;chr&gt; |\n|---|---|---|---|\n| The Low End Theory    | 1991 | FALSE | A Tribe Called Quest |\n| Nevermind             | 1991 | FALSE | Nirvana              |\n| Port of Morrow        | 2012 |  TRUE | The Shins            |\n| Dark Side of the Moon | 1973 | FALSE | Pink Floyd           |\n| Naked                 | 1988 |  TRUE | Talking Heads        |\n| OK Computer           | 1997 |  TRUE | Radiohead            |\n| Abbey Road            | 1969 | FALSE | The Beatles          |\n| Thriller              | 1982 | FALSE | Michael Jackson      |\n| Rumours               | 1977 | FALSE | Fleetwood Mac        |\n| The Joshua Tree       | 1987 |  TRUE | U2                   |\n\n",
            "text/latex": "A data.frame: 10 × 4\n\\begin{tabular}{llll}\n Album & Year & Digital & Artist\\\\\n <chr> & <dbl> & <lgl> & <chr>\\\\\n\\hline\n\t The Low End Theory    & 1991 & FALSE & A Tribe Called Quest\\\\\n\t Nevermind             & 1991 & FALSE & Nirvana             \\\\\n\t Port of Morrow        & 2012 &  TRUE & The Shins           \\\\\n\t Dark Side of the Moon & 1973 & FALSE & Pink Floyd          \\\\\n\t Naked                 & 1988 &  TRUE & Talking Heads       \\\\\n\t OK Computer           & 1997 &  TRUE & Radiohead           \\\\\n\t Abbey Road            & 1969 & FALSE & The Beatles         \\\\\n\t Thriller              & 1982 & FALSE & Michael Jackson     \\\\\n\t Rumours               & 1977 & FALSE & Fleetwood Mac       \\\\\n\t The Joshua Tree       & 1987 &  TRUE & U2                  \\\\\n\\end{tabular}\n",
            "text/plain": [
              "   Album                 Year Digital Artist              \n",
              "1  The Low End Theory    1991 FALSE   A Tribe Called Quest\n",
              "2  Nevermind             1991 FALSE   Nirvana             \n",
              "3  Port of Morrow        2012  TRUE   The Shins           \n",
              "4  Dark Side of the Moon 1973 FALSE   Pink Floyd          \n",
              "5  Naked                 1988  TRUE   Talking Heads       \n",
              "6  OK Computer           1997  TRUE   Radiohead           \n",
              "7  Abbey Road            1969 FALSE   The Beatles         \n",
              "8  Thriller              1982 FALSE   Michael Jackson     \n",
              "9  Rumours               1977 FALSE   Fleetwood Mac       \n",
              "10 The Joshua Tree       1987  TRUE   U2                  "
            ]
          },
          "metadata": {}
        }
      ]
    },
    {
      "cell_type": "markdown",
      "source": [
        "## Get the Structure"
      ],
      "metadata": {
        "id": "TQ4mxM8lpm69"
      }
    },
    {
      "cell_type": "code",
      "source": [
        "str(df)"
      ],
      "metadata": {
        "id": "6K63ICLKpokD",
        "outputId": "c5218f31-37b7-4a7c-fbf3-863a476c8e7d",
        "colab": {
          "base_uri": "https://localhost:8080/"
        }
      },
      "execution_count": 7,
      "outputs": [
        {
          "output_type": "stream",
          "name": "stdout",
          "text": [
            "'data.frame':\t10 obs. of  4 variables:\n",
            " $ Album  : chr  \"The Low End Theory\" \"Nevermind\" \"Port of Morrow\" \"Dark Side of the Moon\" ...\n",
            " $ Year   : num  1991 1991 2012 1973 1988 ...\n",
            " $ Digital: logi  FALSE FALSE TRUE FALSE TRUE TRUE ...\n",
            " $ Artist : chr  \"A Tribe Called Quest\" \"Nirvana\" \"The Shins\" \"Pink Floyd\" ...\n"
          ]
        }
      ]
    },
    {
      "cell_type": "markdown",
      "source": [
        "## Slicing & Filtering\n",
        "\n",
        "Remember that a data frame is simply a 2-dimensional array. Rows + Columns.\n",
        "\n",
        "The `[ ]` selector has two halves, separated by a comma: `[ <ROWS> , <COLUMNS> ]`"
      ],
      "metadata": {
        "id": "ggsLz7-bprEE"
      }
    },
    {
      "cell_type": "code",
      "source": [
        "df[ROWS, COLUMNS]]"
      ],
      "metadata": {
        "id": "ekzV9ct2psrO",
        "outputId": "2eff9542-b5c2-4673-ea4c-c9807c75689b",
        "colab": {
          "base_uri": "https://localhost:8080/",
          "height": 143
        }
      },
      "execution_count": 8,
      "outputs": [
        {
          "output_type": "error",
          "ename": "ERROR",
          "evalue": "ignored",
          "traceback": [
            "Error in parse(text = x, srcfile = src): <text>:1:18: unexpected ']'\n1: df[ROWS, COLUMNS]]\n                     ^\nTraceback:\n"
          ]
        }
      ]
    },
    {
      "cell_type": "code",
      "source": [
        "df[ ,1:2]"
      ],
      "metadata": {
        "id": "lajmMc1VptgT",
        "outputId": "e9e8eeed-4a08-474b-e4f3-c7b53d6bb3d6",
        "colab": {
          "base_uri": "https://localhost:8080/",
          "height": 412
        }
      },
      "execution_count": 9,
      "outputs": [
        {
          "output_type": "display_data",
          "data": {
            "text/html": [
              "<table class=\"dataframe\">\n",
              "<caption>A data.frame: 10 × 2</caption>\n",
              "<thead>\n",
              "\t<tr><th scope=col>Album</th><th scope=col>Year</th></tr>\n",
              "\t<tr><th scope=col>&lt;chr&gt;</th><th scope=col>&lt;dbl&gt;</th></tr>\n",
              "</thead>\n",
              "<tbody>\n",
              "\t<tr><td>The Low End Theory   </td><td>1991</td></tr>\n",
              "\t<tr><td>Nevermind            </td><td>1991</td></tr>\n",
              "\t<tr><td>Port of Morrow       </td><td>2012</td></tr>\n",
              "\t<tr><td>Dark Side of the Moon</td><td>1973</td></tr>\n",
              "\t<tr><td>Naked                </td><td>1988</td></tr>\n",
              "\t<tr><td>OK Computer          </td><td>1997</td></tr>\n",
              "\t<tr><td>Abbey Road           </td><td>1969</td></tr>\n",
              "\t<tr><td>Thriller             </td><td>1982</td></tr>\n",
              "\t<tr><td>Rumours              </td><td>1977</td></tr>\n",
              "\t<tr><td>The Joshua Tree      </td><td>1987</td></tr>\n",
              "</tbody>\n",
              "</table>\n"
            ],
            "text/markdown": "\nA data.frame: 10 × 2\n\n| Album &lt;chr&gt; | Year &lt;dbl&gt; |\n|---|---|\n| The Low End Theory    | 1991 |\n| Nevermind             | 1991 |\n| Port of Morrow        | 2012 |\n| Dark Side of the Moon | 1973 |\n| Naked                 | 1988 |\n| OK Computer           | 1997 |\n| Abbey Road            | 1969 |\n| Thriller              | 1982 |\n| Rumours               | 1977 |\n| The Joshua Tree       | 1987 |\n\n",
            "text/latex": "A data.frame: 10 × 2\n\\begin{tabular}{ll}\n Album & Year\\\\\n <chr> & <dbl>\\\\\n\\hline\n\t The Low End Theory    & 1991\\\\\n\t Nevermind             & 1991\\\\\n\t Port of Morrow        & 2012\\\\\n\t Dark Side of the Moon & 1973\\\\\n\t Naked                 & 1988\\\\\n\t OK Computer           & 1997\\\\\n\t Abbey Road            & 1969\\\\\n\t Thriller              & 1982\\\\\n\t Rumours               & 1977\\\\\n\t The Joshua Tree       & 1987\\\\\n\\end{tabular}\n",
            "text/plain": [
              "   Album                 Year\n",
              "1  The Low End Theory    1991\n",
              "2  Nevermind             1991\n",
              "3  Port of Morrow        2012\n",
              "4  Dark Side of the Moon 1973\n",
              "5  Naked                 1988\n",
              "6  OK Computer           1997\n",
              "7  Abbey Road            1969\n",
              "8  Thriller              1982\n",
              "9  Rumours               1977\n",
              "10 The Joshua Tree       1987"
            ]
          },
          "metadata": {}
        }
      ]
    },
    {
      "cell_type": "code",
      "source": [
        "df[1:5, ]"
      ],
      "metadata": {
        "id": "8Li_TatiptYh",
        "outputId": "d19998b4-a135-40f5-b460-e824825b568e",
        "colab": {
          "base_uri": "https://localhost:8080/",
          "height": 255
        }
      },
      "execution_count": 10,
      "outputs": [
        {
          "output_type": "display_data",
          "data": {
            "text/html": [
              "<table class=\"dataframe\">\n",
              "<caption>A data.frame: 5 × 4</caption>\n",
              "<thead>\n",
              "\t<tr><th></th><th scope=col>Album</th><th scope=col>Year</th><th scope=col>Digital</th><th scope=col>Artist</th></tr>\n",
              "\t<tr><th></th><th scope=col>&lt;chr&gt;</th><th scope=col>&lt;dbl&gt;</th><th scope=col>&lt;lgl&gt;</th><th scope=col>&lt;chr&gt;</th></tr>\n",
              "</thead>\n",
              "<tbody>\n",
              "\t<tr><th scope=row>1</th><td>The Low End Theory   </td><td>1991</td><td>FALSE</td><td>A Tribe Called Quest</td></tr>\n",
              "\t<tr><th scope=row>2</th><td>Nevermind            </td><td>1991</td><td>FALSE</td><td>Nirvana             </td></tr>\n",
              "\t<tr><th scope=row>3</th><td>Port of Morrow       </td><td>2012</td><td> TRUE</td><td>The Shins           </td></tr>\n",
              "\t<tr><th scope=row>4</th><td>Dark Side of the Moon</td><td>1973</td><td>FALSE</td><td>Pink Floyd          </td></tr>\n",
              "\t<tr><th scope=row>5</th><td>Naked                </td><td>1988</td><td> TRUE</td><td>Talking Heads       </td></tr>\n",
              "</tbody>\n",
              "</table>\n"
            ],
            "text/markdown": "\nA data.frame: 5 × 4\n\n| <!--/--> | Album &lt;chr&gt; | Year &lt;dbl&gt; | Digital &lt;lgl&gt; | Artist &lt;chr&gt; |\n|---|---|---|---|---|\n| 1 | The Low End Theory    | 1991 | FALSE | A Tribe Called Quest |\n| 2 | Nevermind             | 1991 | FALSE | Nirvana              |\n| 3 | Port of Morrow        | 2012 |  TRUE | The Shins            |\n| 4 | Dark Side of the Moon | 1973 | FALSE | Pink Floyd           |\n| 5 | Naked                 | 1988 |  TRUE | Talking Heads        |\n\n",
            "text/latex": "A data.frame: 5 × 4\n\\begin{tabular}{r|llll}\n  & Album & Year & Digital & Artist\\\\\n  & <chr> & <dbl> & <lgl> & <chr>\\\\\n\\hline\n\t1 & The Low End Theory    & 1991 & FALSE & A Tribe Called Quest\\\\\n\t2 & Nevermind             & 1991 & FALSE & Nirvana             \\\\\n\t3 & Port of Morrow        & 2012 &  TRUE & The Shins           \\\\\n\t4 & Dark Side of the Moon & 1973 & FALSE & Pink Floyd          \\\\\n\t5 & Naked                 & 1988 &  TRUE & Talking Heads       \\\\\n\\end{tabular}\n",
            "text/plain": [
              "  Album                 Year Digital Artist              \n",
              "1 The Low End Theory    1991 FALSE   A Tribe Called Quest\n",
              "2 Nevermind             1991 FALSE   Nirvana             \n",
              "3 Port of Morrow        2012  TRUE   The Shins           \n",
              "4 Dark Side of the Moon 1973 FALSE   Pink Floyd          \n",
              "5 Naked                 1988  TRUE   Talking Heads       "
            ]
          },
          "metadata": {}
        }
      ]
    },
    {
      "cell_type": "code",
      "source": [
        "# concatonate columns one and four\n",
        "\n",
        "df[ ,c(1,4)]"
      ],
      "metadata": {
        "id": "cvV7mS5n3Ww2",
        "outputId": "ad7cc7a8-4d79-4e79-ed83-60f4380c18ed",
        "colab": {
          "base_uri": "https://localhost:8080/",
          "height": 412
        }
      },
      "execution_count": 14,
      "outputs": [
        {
          "output_type": "display_data",
          "data": {
            "text/html": [
              "<table class=\"dataframe\">\n",
              "<caption>A data.frame: 10 × 2</caption>\n",
              "<thead>\n",
              "\t<tr><th scope=col>Album</th><th scope=col>Artist</th></tr>\n",
              "\t<tr><th scope=col>&lt;chr&gt;</th><th scope=col>&lt;chr&gt;</th></tr>\n",
              "</thead>\n",
              "<tbody>\n",
              "\t<tr><td>The Low End Theory   </td><td>A Tribe Called Quest</td></tr>\n",
              "\t<tr><td>Nevermind            </td><td>Nirvana             </td></tr>\n",
              "\t<tr><td>Port of Morrow       </td><td>The Shins           </td></tr>\n",
              "\t<tr><td>Dark Side of the Moon</td><td>Pink Floyd          </td></tr>\n",
              "\t<tr><td>Naked                </td><td>Talking Heads       </td></tr>\n",
              "\t<tr><td>OK Computer          </td><td>Radiohead           </td></tr>\n",
              "\t<tr><td>Abbey Road           </td><td>The Beatles         </td></tr>\n",
              "\t<tr><td>Thriller             </td><td>Michael Jackson     </td></tr>\n",
              "\t<tr><td>Rumours              </td><td>Fleetwood Mac       </td></tr>\n",
              "\t<tr><td>The Joshua Tree      </td><td>U2                  </td></tr>\n",
              "</tbody>\n",
              "</table>\n"
            ],
            "text/markdown": "\nA data.frame: 10 × 2\n\n| Album &lt;chr&gt; | Artist &lt;chr&gt; |\n|---|---|\n| The Low End Theory    | A Tribe Called Quest |\n| Nevermind             | Nirvana              |\n| Port of Morrow        | The Shins            |\n| Dark Side of the Moon | Pink Floyd           |\n| Naked                 | Talking Heads        |\n| OK Computer           | Radiohead            |\n| Abbey Road            | The Beatles          |\n| Thriller              | Michael Jackson      |\n| Rumours               | Fleetwood Mac        |\n| The Joshua Tree       | U2                   |\n\n",
            "text/latex": "A data.frame: 10 × 2\n\\begin{tabular}{ll}\n Album & Artist\\\\\n <chr> & <chr>\\\\\n\\hline\n\t The Low End Theory    & A Tribe Called Quest\\\\\n\t Nevermind             & Nirvana             \\\\\n\t Port of Morrow        & The Shins           \\\\\n\t Dark Side of the Moon & Pink Floyd          \\\\\n\t Naked                 & Talking Heads       \\\\\n\t OK Computer           & Radiohead           \\\\\n\t Abbey Road            & The Beatles         \\\\\n\t Thriller              & Michael Jackson     \\\\\n\t Rumours               & Fleetwood Mac       \\\\\n\t The Joshua Tree       & U2                  \\\\\n\\end{tabular}\n",
            "text/plain": [
              "   Album                 Artist              \n",
              "1  The Low End Theory    A Tribe Called Quest\n",
              "2  Nevermind             Nirvana             \n",
              "3  Port of Morrow        The Shins           \n",
              "4  Dark Side of the Moon Pink Floyd          \n",
              "5  Naked                 Talking Heads       \n",
              "6  OK Computer           Radiohead           \n",
              "7  Abbey Road            The Beatles         \n",
              "8  Thriller              Michael Jackson     \n",
              "9  Rumours               Fleetwood Mac       \n",
              "10 The Joshua Tree       U2                  "
            ]
          },
          "metadata": {}
        }
      ]
    },
    {
      "cell_type": "code",
      "source": [
        "# pull out only the word radio head\n",
        "\n",
        "df[6,4]"
      ],
      "metadata": {
        "id": "Obg94MoNptCB",
        "outputId": "41fae58e-bc5a-4d3c-c710-a2ca90a0e55d",
        "colab": {
          "base_uri": "https://localhost:8080/",
          "height": 34
        }
      },
      "execution_count": 12,
      "outputs": [
        {
          "output_type": "display_data",
          "data": {
            "text/html": [
              "'Radiohead'"
            ],
            "text/markdown": "'Radiohead'",
            "text/latex": "'Radiohead'",
            "text/plain": [
              "[1] \"Radiohead\""
            ]
          },
          "metadata": {}
        }
      ]
    },
    {
      "cell_type": "code",
      "source": [
        "df"
      ],
      "metadata": {
        "id": "g2BBw5M63pBX",
        "outputId": "d99630dd-fc53-4bc4-d0f6-d72674813074",
        "colab": {
          "base_uri": "https://localhost:8080/",
          "height": 412
        }
      },
      "execution_count": 15,
      "outputs": [
        {
          "output_type": "display_data",
          "data": {
            "text/html": [
              "<table class=\"dataframe\">\n",
              "<caption>A data.frame: 10 × 4</caption>\n",
              "<thead>\n",
              "\t<tr><th scope=col>Album</th><th scope=col>Year</th><th scope=col>Digital</th><th scope=col>Artist</th></tr>\n",
              "\t<tr><th scope=col>&lt;chr&gt;</th><th scope=col>&lt;dbl&gt;</th><th scope=col>&lt;lgl&gt;</th><th scope=col>&lt;chr&gt;</th></tr>\n",
              "</thead>\n",
              "<tbody>\n",
              "\t<tr><td>The Low End Theory   </td><td>1991</td><td>FALSE</td><td>A Tribe Called Quest</td></tr>\n",
              "\t<tr><td>Nevermind            </td><td>1991</td><td>FALSE</td><td>Nirvana             </td></tr>\n",
              "\t<tr><td>Port of Morrow       </td><td>2012</td><td> TRUE</td><td>The Shins           </td></tr>\n",
              "\t<tr><td>Dark Side of the Moon</td><td>1973</td><td>FALSE</td><td>Pink Floyd          </td></tr>\n",
              "\t<tr><td>Naked                </td><td>1988</td><td> TRUE</td><td>Talking Heads       </td></tr>\n",
              "\t<tr><td>OK Computer          </td><td>1997</td><td> TRUE</td><td>Radiohead           </td></tr>\n",
              "\t<tr><td>Abbey Road           </td><td>1969</td><td>FALSE</td><td>The Beatles         </td></tr>\n",
              "\t<tr><td>Thriller             </td><td>1982</td><td>FALSE</td><td>Michael Jackson     </td></tr>\n",
              "\t<tr><td>Rumours              </td><td>1977</td><td>FALSE</td><td>Fleetwood Mac       </td></tr>\n",
              "\t<tr><td>The Joshua Tree      </td><td>1987</td><td> TRUE</td><td>U2                  </td></tr>\n",
              "</tbody>\n",
              "</table>\n"
            ],
            "text/markdown": "\nA data.frame: 10 × 4\n\n| Album &lt;chr&gt; | Year &lt;dbl&gt; | Digital &lt;lgl&gt; | Artist &lt;chr&gt; |\n|---|---|---|---|\n| The Low End Theory    | 1991 | FALSE | A Tribe Called Quest |\n| Nevermind             | 1991 | FALSE | Nirvana              |\n| Port of Morrow        | 2012 |  TRUE | The Shins            |\n| Dark Side of the Moon | 1973 | FALSE | Pink Floyd           |\n| Naked                 | 1988 |  TRUE | Talking Heads        |\n| OK Computer           | 1997 |  TRUE | Radiohead            |\n| Abbey Road            | 1969 | FALSE | The Beatles          |\n| Thriller              | 1982 | FALSE | Michael Jackson      |\n| Rumours               | 1977 | FALSE | Fleetwood Mac        |\n| The Joshua Tree       | 1987 |  TRUE | U2                   |\n\n",
            "text/latex": "A data.frame: 10 × 4\n\\begin{tabular}{llll}\n Album & Year & Digital & Artist\\\\\n <chr> & <dbl> & <lgl> & <chr>\\\\\n\\hline\n\t The Low End Theory    & 1991 & FALSE & A Tribe Called Quest\\\\\n\t Nevermind             & 1991 & FALSE & Nirvana             \\\\\n\t Port of Morrow        & 2012 &  TRUE & The Shins           \\\\\n\t Dark Side of the Moon & 1973 & FALSE & Pink Floyd          \\\\\n\t Naked                 & 1988 &  TRUE & Talking Heads       \\\\\n\t OK Computer           & 1997 &  TRUE & Radiohead           \\\\\n\t Abbey Road            & 1969 & FALSE & The Beatles         \\\\\n\t Thriller              & 1982 & FALSE & Michael Jackson     \\\\\n\t Rumours               & 1977 & FALSE & Fleetwood Mac       \\\\\n\t The Joshua Tree       & 1987 &  TRUE & U2                  \\\\\n\\end{tabular}\n",
            "text/plain": [
              "   Album                 Year Digital Artist              \n",
              "1  The Low End Theory    1991 FALSE   A Tribe Called Quest\n",
              "2  Nevermind             1991 FALSE   Nirvana             \n",
              "3  Port of Morrow        2012  TRUE   The Shins           \n",
              "4  Dark Side of the Moon 1973 FALSE   Pink Floyd          \n",
              "5  Naked                 1988  TRUE   Talking Heads       \n",
              "6  OK Computer           1997  TRUE   Radiohead           \n",
              "7  Abbey Road            1969 FALSE   The Beatles         \n",
              "8  Thriller              1982 FALSE   Michael Jackson     \n",
              "9  Rumours               1977 FALSE   Fleetwood Mac       \n",
              "10 The Joshua Tree       1987  TRUE   U2                  "
            ]
          },
          "metadata": {}
        }
      ]
    },
    {
      "cell_type": "code",
      "source": [
        "# want artists to appear first, followed by year, in the full dataframe\n",
        "\n",
        "# can arbitraily select what we want using concatonateion in values of slicind brackets\n",
        "#   (but a little clunky and manual)\n",
        "\n",
        "df[c(1,9,4,5),c(4,2)]"
      ],
      "metadata": {
        "id": "DI5VkLHh3qS8",
        "outputId": "8de9f7e8-deba-4417-c11b-0059cbd51e94",
        "colab": {
          "base_uri": "https://localhost:8080/",
          "height": 224
        }
      },
      "execution_count": 16,
      "outputs": [
        {
          "output_type": "display_data",
          "data": {
            "text/html": [
              "<table class=\"dataframe\">\n",
              "<caption>A data.frame: 4 × 2</caption>\n",
              "<thead>\n",
              "\t<tr><th></th><th scope=col>Artist</th><th scope=col>Year</th></tr>\n",
              "\t<tr><th></th><th scope=col>&lt;chr&gt;</th><th scope=col>&lt;dbl&gt;</th></tr>\n",
              "</thead>\n",
              "<tbody>\n",
              "\t<tr><th scope=row>1</th><td>A Tribe Called Quest</td><td>1991</td></tr>\n",
              "\t<tr><th scope=row>9</th><td>Fleetwood Mac       </td><td>1977</td></tr>\n",
              "\t<tr><th scope=row>4</th><td>Pink Floyd          </td><td>1973</td></tr>\n",
              "\t<tr><th scope=row>5</th><td>Talking Heads       </td><td>1988</td></tr>\n",
              "</tbody>\n",
              "</table>\n"
            ],
            "text/markdown": "\nA data.frame: 4 × 2\n\n| <!--/--> | Artist &lt;chr&gt; | Year &lt;dbl&gt; |\n|---|---|---|\n| 1 | A Tribe Called Quest | 1991 |\n| 9 | Fleetwood Mac        | 1977 |\n| 4 | Pink Floyd           | 1973 |\n| 5 | Talking Heads        | 1988 |\n\n",
            "text/latex": "A data.frame: 4 × 2\n\\begin{tabular}{r|ll}\n  & Artist & Year\\\\\n  & <chr> & <dbl>\\\\\n\\hline\n\t1 & A Tribe Called Quest & 1991\\\\\n\t9 & Fleetwood Mac        & 1977\\\\\n\t4 & Pink Floyd           & 1973\\\\\n\t5 & Talking Heads        & 1988\\\\\n\\end{tabular}\n",
            "text/plain": [
              "  Artist               Year\n",
              "1 A Tribe Called Quest 1991\n",
              "9 Fleetwood Mac        1977\n",
              "4 Pink Floyd           1973\n",
              "5 Talking Heads        1988"
            ]
          },
          "metadata": {}
        }
      ]
    },
    {
      "cell_type": "code",
      "source": [
        "# do the same as above, but without indexes\n",
        "\n",
        "df [ , c(\"Album\",\"Artist\")]"
      ],
      "metadata": {
        "id": "6O7PYjSF4WK0",
        "outputId": "49eb0fc6-a8ac-488d-e938-632b137957c2",
        "colab": {
          "base_uri": "https://localhost:8080/",
          "height": 412
        }
      },
      "execution_count": 17,
      "outputs": [
        {
          "output_type": "display_data",
          "data": {
            "text/html": [
              "<table class=\"dataframe\">\n",
              "<caption>A data.frame: 10 × 2</caption>\n",
              "<thead>\n",
              "\t<tr><th scope=col>Album</th><th scope=col>Artist</th></tr>\n",
              "\t<tr><th scope=col>&lt;chr&gt;</th><th scope=col>&lt;chr&gt;</th></tr>\n",
              "</thead>\n",
              "<tbody>\n",
              "\t<tr><td>The Low End Theory   </td><td>A Tribe Called Quest</td></tr>\n",
              "\t<tr><td>Nevermind            </td><td>Nirvana             </td></tr>\n",
              "\t<tr><td>Port of Morrow       </td><td>The Shins           </td></tr>\n",
              "\t<tr><td>Dark Side of the Moon</td><td>Pink Floyd          </td></tr>\n",
              "\t<tr><td>Naked                </td><td>Talking Heads       </td></tr>\n",
              "\t<tr><td>OK Computer          </td><td>Radiohead           </td></tr>\n",
              "\t<tr><td>Abbey Road           </td><td>The Beatles         </td></tr>\n",
              "\t<tr><td>Thriller             </td><td>Michael Jackson     </td></tr>\n",
              "\t<tr><td>Rumours              </td><td>Fleetwood Mac       </td></tr>\n",
              "\t<tr><td>The Joshua Tree      </td><td>U2                  </td></tr>\n",
              "</tbody>\n",
              "</table>\n"
            ],
            "text/markdown": "\nA data.frame: 10 × 2\n\n| Album &lt;chr&gt; | Artist &lt;chr&gt; |\n|---|---|\n| The Low End Theory    | A Tribe Called Quest |\n| Nevermind             | Nirvana              |\n| Port of Morrow        | The Shins            |\n| Dark Side of the Moon | Pink Floyd           |\n| Naked                 | Talking Heads        |\n| OK Computer           | Radiohead            |\n| Abbey Road            | The Beatles          |\n| Thriller              | Michael Jackson      |\n| Rumours               | Fleetwood Mac        |\n| The Joshua Tree       | U2                   |\n\n",
            "text/latex": "A data.frame: 10 × 2\n\\begin{tabular}{ll}\n Album & Artist\\\\\n <chr> & <chr>\\\\\n\\hline\n\t The Low End Theory    & A Tribe Called Quest\\\\\n\t Nevermind             & Nirvana             \\\\\n\t Port of Morrow        & The Shins           \\\\\n\t Dark Side of the Moon & Pink Floyd          \\\\\n\t Naked                 & Talking Heads       \\\\\n\t OK Computer           & Radiohead           \\\\\n\t Abbey Road            & The Beatles         \\\\\n\t Thriller              & Michael Jackson     \\\\\n\t Rumours               & Fleetwood Mac       \\\\\n\t The Joshua Tree       & U2                  \\\\\n\\end{tabular}\n",
            "text/plain": [
              "   Album                 Artist              \n",
              "1  The Low End Theory    A Tribe Called Quest\n",
              "2  Nevermind             Nirvana             \n",
              "3  Port of Morrow        The Shins           \n",
              "4  Dark Side of the Moon Pink Floyd          \n",
              "5  Naked                 Talking Heads       \n",
              "6  OK Computer           Radiohead           \n",
              "7  Abbey Road            The Beatles         \n",
              "8  Thriller              Michael Jackson     \n",
              "9  Rumours               Fleetwood Mac       \n",
              "10 The Joshua Tree       U2                  "
            ]
          },
          "metadata": {}
        }
      ]
    },
    {
      "cell_type": "code",
      "source": [
        "# search only for the values where the digital is false\n",
        "    # use a logical conditional\n",
        "\n",
        "df[df$Digital == FALSE, ]"
      ],
      "metadata": {
        "id": "BQqKlxwi4eIf",
        "outputId": "96427079-db3d-47cf-8eba-4782c872fcd3",
        "colab": {
          "base_uri": "https://localhost:8080/",
          "height": 286
        }
      },
      "execution_count": 18,
      "outputs": [
        {
          "output_type": "display_data",
          "data": {
            "text/html": [
              "<table class=\"dataframe\">\n",
              "<caption>A data.frame: 6 × 4</caption>\n",
              "<thead>\n",
              "\t<tr><th></th><th scope=col>Album</th><th scope=col>Year</th><th scope=col>Digital</th><th scope=col>Artist</th></tr>\n",
              "\t<tr><th></th><th scope=col>&lt;chr&gt;</th><th scope=col>&lt;dbl&gt;</th><th scope=col>&lt;lgl&gt;</th><th scope=col>&lt;chr&gt;</th></tr>\n",
              "</thead>\n",
              "<tbody>\n",
              "\t<tr><th scope=row>1</th><td>The Low End Theory   </td><td>1991</td><td>FALSE</td><td>A Tribe Called Quest</td></tr>\n",
              "\t<tr><th scope=row>2</th><td>Nevermind            </td><td>1991</td><td>FALSE</td><td>Nirvana             </td></tr>\n",
              "\t<tr><th scope=row>4</th><td>Dark Side of the Moon</td><td>1973</td><td>FALSE</td><td>Pink Floyd          </td></tr>\n",
              "\t<tr><th scope=row>7</th><td>Abbey Road           </td><td>1969</td><td>FALSE</td><td>The Beatles         </td></tr>\n",
              "\t<tr><th scope=row>8</th><td>Thriller             </td><td>1982</td><td>FALSE</td><td>Michael Jackson     </td></tr>\n",
              "\t<tr><th scope=row>9</th><td>Rumours              </td><td>1977</td><td>FALSE</td><td>Fleetwood Mac       </td></tr>\n",
              "</tbody>\n",
              "</table>\n"
            ],
            "text/markdown": "\nA data.frame: 6 × 4\n\n| <!--/--> | Album &lt;chr&gt; | Year &lt;dbl&gt; | Digital &lt;lgl&gt; | Artist &lt;chr&gt; |\n|---|---|---|---|---|\n| 1 | The Low End Theory    | 1991 | FALSE | A Tribe Called Quest |\n| 2 | Nevermind             | 1991 | FALSE | Nirvana              |\n| 4 | Dark Side of the Moon | 1973 | FALSE | Pink Floyd           |\n| 7 | Abbey Road            | 1969 | FALSE | The Beatles          |\n| 8 | Thriller              | 1982 | FALSE | Michael Jackson      |\n| 9 | Rumours               | 1977 | FALSE | Fleetwood Mac        |\n\n",
            "text/latex": "A data.frame: 6 × 4\n\\begin{tabular}{r|llll}\n  & Album & Year & Digital & Artist\\\\\n  & <chr> & <dbl> & <lgl> & <chr>\\\\\n\\hline\n\t1 & The Low End Theory    & 1991 & FALSE & A Tribe Called Quest\\\\\n\t2 & Nevermind             & 1991 & FALSE & Nirvana             \\\\\n\t4 & Dark Side of the Moon & 1973 & FALSE & Pink Floyd          \\\\\n\t7 & Abbey Road            & 1969 & FALSE & The Beatles         \\\\\n\t8 & Thriller              & 1982 & FALSE & Michael Jackson     \\\\\n\t9 & Rumours               & 1977 & FALSE & Fleetwood Mac       \\\\\n\\end{tabular}\n",
            "text/plain": [
              "  Album                 Year Digital Artist              \n",
              "1 The Low End Theory    1991 FALSE   A Tribe Called Quest\n",
              "2 Nevermind             1991 FALSE   Nirvana             \n",
              "4 Dark Side of the Moon 1973 FALSE   Pink Floyd          \n",
              "7 Abbey Road            1969 FALSE   The Beatles         \n",
              "8 Thriller              1982 FALSE   Michael Jackson     \n",
              "9 Rumours               1977 FALSE   Fleetwood Mac       "
            ]
          },
          "metadata": {}
        }
      ]
    },
    {
      "cell_type": "code",
      "source": [
        "# AND\n",
        "\n",
        "df[df$Year > 1990 & df$Digital == TRUE, ]"
      ],
      "metadata": {
        "id": "-NLF9wJ_5EIT",
        "outputId": "e3e8500f-2ecb-46a3-a469-3b5f0bd2cf39",
        "colab": {
          "base_uri": "https://localhost:8080/",
          "height": 161
        }
      },
      "execution_count": 19,
      "outputs": [
        {
          "output_type": "display_data",
          "data": {
            "text/html": [
              "<table class=\"dataframe\">\n",
              "<caption>A data.frame: 2 × 4</caption>\n",
              "<thead>\n",
              "\t<tr><th></th><th scope=col>Album</th><th scope=col>Year</th><th scope=col>Digital</th><th scope=col>Artist</th></tr>\n",
              "\t<tr><th></th><th scope=col>&lt;chr&gt;</th><th scope=col>&lt;dbl&gt;</th><th scope=col>&lt;lgl&gt;</th><th scope=col>&lt;chr&gt;</th></tr>\n",
              "</thead>\n",
              "<tbody>\n",
              "\t<tr><th scope=row>3</th><td>Port of Morrow</td><td>2012</td><td>TRUE</td><td>The Shins</td></tr>\n",
              "\t<tr><th scope=row>6</th><td>OK Computer   </td><td>1997</td><td>TRUE</td><td>Radiohead</td></tr>\n",
              "</tbody>\n",
              "</table>\n"
            ],
            "text/markdown": "\nA data.frame: 2 × 4\n\n| <!--/--> | Album &lt;chr&gt; | Year &lt;dbl&gt; | Digital &lt;lgl&gt; | Artist &lt;chr&gt; |\n|---|---|---|---|---|\n| 3 | Port of Morrow | 2012 | TRUE | The Shins |\n| 6 | OK Computer    | 1997 | TRUE | Radiohead |\n\n",
            "text/latex": "A data.frame: 2 × 4\n\\begin{tabular}{r|llll}\n  & Album & Year & Digital & Artist\\\\\n  & <chr> & <dbl> & <lgl> & <chr>\\\\\n\\hline\n\t3 & Port of Morrow & 2012 & TRUE & The Shins\\\\\n\t6 & OK Computer    & 1997 & TRUE & Radiohead\\\\\n\\end{tabular}\n",
            "text/plain": [
              "  Album          Year Digital Artist   \n",
              "3 Port of Morrow 2012 TRUE    The Shins\n",
              "6 OK Computer    1997 TRUE    Radiohead"
            ]
          },
          "metadata": {}
        }
      ]
    },
    {
      "cell_type": "code",
      "source": [
        "# OR\n",
        "\n",
        "df[df$Year > 1990 | df$Digital == TRUE, ]"
      ],
      "metadata": {
        "id": "tgaqLCTP5dHQ",
        "outputId": "761e47f1-fed2-4e2e-eaa5-7365b621fe68",
        "colab": {
          "base_uri": "https://localhost:8080/",
          "height": 286
        }
      },
      "execution_count": 22,
      "outputs": [
        {
          "output_type": "display_data",
          "data": {
            "text/html": [
              "<table class=\"dataframe\">\n",
              "<caption>A data.frame: 6 × 4</caption>\n",
              "<thead>\n",
              "\t<tr><th></th><th scope=col>Album</th><th scope=col>Year</th><th scope=col>Digital</th><th scope=col>Artist</th></tr>\n",
              "\t<tr><th></th><th scope=col>&lt;chr&gt;</th><th scope=col>&lt;dbl&gt;</th><th scope=col>&lt;lgl&gt;</th><th scope=col>&lt;chr&gt;</th></tr>\n",
              "</thead>\n",
              "<tbody>\n",
              "\t<tr><th scope=row>1</th><td>The Low End Theory</td><td>1991</td><td>FALSE</td><td>A Tribe Called Quest</td></tr>\n",
              "\t<tr><th scope=row>2</th><td>Nevermind         </td><td>1991</td><td>FALSE</td><td>Nirvana             </td></tr>\n",
              "\t<tr><th scope=row>3</th><td>Port of Morrow    </td><td>2012</td><td> TRUE</td><td>The Shins           </td></tr>\n",
              "\t<tr><th scope=row>5</th><td>Naked             </td><td>1988</td><td> TRUE</td><td>Talking Heads       </td></tr>\n",
              "\t<tr><th scope=row>6</th><td>OK Computer       </td><td>1997</td><td> TRUE</td><td>Radiohead           </td></tr>\n",
              "\t<tr><th scope=row>10</th><td>The Joshua Tree   </td><td>1987</td><td> TRUE</td><td>U2                  </td></tr>\n",
              "</tbody>\n",
              "</table>\n"
            ],
            "text/markdown": "\nA data.frame: 6 × 4\n\n| <!--/--> | Album &lt;chr&gt; | Year &lt;dbl&gt; | Digital &lt;lgl&gt; | Artist &lt;chr&gt; |\n|---|---|---|---|---|\n| 1 | The Low End Theory | 1991 | FALSE | A Tribe Called Quest |\n| 2 | Nevermind          | 1991 | FALSE | Nirvana              |\n| 3 | Port of Morrow     | 2012 |  TRUE | The Shins            |\n| 5 | Naked              | 1988 |  TRUE | Talking Heads        |\n| 6 | OK Computer        | 1997 |  TRUE | Radiohead            |\n| 10 | The Joshua Tree    | 1987 |  TRUE | U2                   |\n\n",
            "text/latex": "A data.frame: 6 × 4\n\\begin{tabular}{r|llll}\n  & Album & Year & Digital & Artist\\\\\n  & <chr> & <dbl> & <lgl> & <chr>\\\\\n\\hline\n\t1 & The Low End Theory & 1991 & FALSE & A Tribe Called Quest\\\\\n\t2 & Nevermind          & 1991 & FALSE & Nirvana             \\\\\n\t3 & Port of Morrow     & 2012 &  TRUE & The Shins           \\\\\n\t5 & Naked              & 1988 &  TRUE & Talking Heads       \\\\\n\t6 & OK Computer        & 1997 &  TRUE & Radiohead           \\\\\n\t10 & The Joshua Tree    & 1987 &  TRUE & U2                  \\\\\n\\end{tabular}\n",
            "text/plain": [
              "   Album              Year Digital Artist              \n",
              "1  The Low End Theory 1991 FALSE   A Tribe Called Quest\n",
              "2  Nevermind          1991 FALSE   Nirvana             \n",
              "3  Port of Morrow     2012  TRUE   The Shins           \n",
              "5  Naked              1988  TRUE   Talking Heads       \n",
              "6  OK Computer        1997  TRUE   Radiohead           \n",
              "10 The Joshua Tree    1987  TRUE   U2                  "
            ]
          },
          "metadata": {}
        }
      ]
    },
    {
      "cell_type": "markdown",
      "source": [
        "## `tidyverse`"
      ],
      "metadata": {
        "id": "fALGIGm_p0Hq"
      }
    },
    {
      "cell_type": "code",
      "source": [
        "# Installing packages\n",
        "\n",
        "install.packages(\"tidyverse\")\n",
        "library(tidyverse)"
      ],
      "metadata": {
        "id": "Kyz85b73p2BQ",
        "outputId": "a34a6c6d-c53f-476e-bb73-94434d92160d",
        "colab": {
          "base_uri": "https://localhost:8080/"
        }
      },
      "execution_count": 23,
      "outputs": [
        {
          "output_type": "stream",
          "name": "stderr",
          "text": [
            "Installing package into ‘/usr/local/lib/R/site-library’\n",
            "(as ‘lib’ is unspecified)\n",
            "\n",
            "── \u001b[1mAttaching core tidyverse packages\u001b[22m ──────────────────────── tidyverse 2.0.0 ──\n",
            "\u001b[32m✔\u001b[39m \u001b[34mdplyr    \u001b[39m 1.1.3     \u001b[32m✔\u001b[39m \u001b[34mreadr    \u001b[39m 2.1.4\n",
            "\u001b[32m✔\u001b[39m \u001b[34mforcats  \u001b[39m 1.0.0     \u001b[32m✔\u001b[39m \u001b[34mstringr  \u001b[39m 1.5.0\n",
            "\u001b[32m✔\u001b[39m \u001b[34mggplot2  \u001b[39m 3.4.4     \u001b[32m✔\u001b[39m \u001b[34mtibble   \u001b[39m 3.2.1\n",
            "\u001b[32m✔\u001b[39m \u001b[34mlubridate\u001b[39m 1.9.3     \u001b[32m✔\u001b[39m \u001b[34mtidyr    \u001b[39m 1.3.0\n",
            "\u001b[32m✔\u001b[39m \u001b[34mpurrr    \u001b[39m 1.0.2     \n",
            "── \u001b[1mConflicts\u001b[22m ────────────────────────────────────────── tidyverse_conflicts() ──\n",
            "\u001b[31m✖\u001b[39m \u001b[34mdplyr\u001b[39m::\u001b[32mfilter()\u001b[39m masks \u001b[34mstats\u001b[39m::filter()\n",
            "\u001b[31m✖\u001b[39m \u001b[34mdplyr\u001b[39m::\u001b[32mlag()\u001b[39m    masks \u001b[34mstats\u001b[39m::lag()\n",
            "\u001b[36mℹ\u001b[39m Use the conflicted package (\u001b[3m\u001b[34m<http://conflicted.r-lib.org/>\u001b[39m\u001b[23m) to force all conflicts to become errors\n"
          ]
        }
      ]
    },
    {
      "cell_type": "code",
      "source": [
        "# Loading a library\n"
      ],
      "metadata": {
        "id": "ga-N-9ULrNy9"
      },
      "execution_count": null,
      "outputs": []
    },
    {
      "cell_type": "code",
      "source": [
        "# Piping\n",
        "\n",
        "df %>%\n",
        "  select(Album, Year) %>%\n",
        "  filter(Year > 1990)"
      ],
      "metadata": {
        "id": "Ydtq1VX7p-Or",
        "outputId": "2fef14d7-0106-4afd-ecb8-023f5e1a46d0",
        "colab": {
          "base_uri": "https://localhost:8080/",
          "height": 224
        }
      },
      "execution_count": 25,
      "outputs": [
        {
          "output_type": "display_data",
          "data": {
            "text/html": [
              "<table class=\"dataframe\">\n",
              "<caption>A data.frame: 4 × 2</caption>\n",
              "<thead>\n",
              "\t<tr><th scope=col>Album</th><th scope=col>Year</th></tr>\n",
              "\t<tr><th scope=col>&lt;chr&gt;</th><th scope=col>&lt;dbl&gt;</th></tr>\n",
              "</thead>\n",
              "<tbody>\n",
              "\t<tr><td>The Low End Theory</td><td>1991</td></tr>\n",
              "\t<tr><td>Nevermind         </td><td>1991</td></tr>\n",
              "\t<tr><td>Port of Morrow    </td><td>2012</td></tr>\n",
              "\t<tr><td>OK Computer       </td><td>1997</td></tr>\n",
              "</tbody>\n",
              "</table>\n"
            ],
            "text/markdown": "\nA data.frame: 4 × 2\n\n| Album &lt;chr&gt; | Year &lt;dbl&gt; |\n|---|---|\n| The Low End Theory | 1991 |\n| Nevermind          | 1991 |\n| Port of Morrow     | 2012 |\n| OK Computer        | 1997 |\n\n",
            "text/latex": "A data.frame: 4 × 2\n\\begin{tabular}{ll}\n Album & Year\\\\\n <chr> & <dbl>\\\\\n\\hline\n\t The Low End Theory & 1991\\\\\n\t Nevermind          & 1991\\\\\n\t Port of Morrow     & 2012\\\\\n\t OK Computer        & 1997\\\\\n\\end{tabular}\n",
            "text/plain": [
              "  Album              Year\n",
              "1 The Low End Theory 1991\n",
              "2 Nevermind          1991\n",
              "3 Port of Morrow     2012\n",
              "4 OK Computer        1997"
            ]
          },
          "metadata": {}
        }
      ]
    },
    {
      "cell_type": "markdown",
      "source": [
        "# Import a CSV Manually"
      ],
      "metadata": {
        "id": "5K_JCYUF7R3L"
      }
    },
    {
      "cell_type": "code",
      "source": [
        "# Loading a CSV file into a data frame\n",
        "\n",
        "titanic <- read.csv(\"https://raw.githubusercontent.com/datasciencedojo/datasets/master/titanic.csv\")"
      ],
      "metadata": {
        "id": "E5CMNQTn7cNW"
      },
      "execution_count": 27,
      "outputs": []
    },
    {
      "cell_type": "code",
      "source": [
        "titanic %>%\n",
        "  select(Pclass, Name, Sex, Fare, Age) %>%\n",
        "  filter(Sex == \"female\") %>%\n",
        "  filter(Pclass == 3) %>%\n",
        "  filter(Age < 20) %>%\n",
        "  arrange(Name)"
      ],
      "metadata": {
        "id": "PYz22OEp7dCP",
        "outputId": "061de784-3384-4057-8ea5-9b7ceefdb06c",
        "colab": {
          "base_uri": "https://localhost:8080/",
          "height": 1000
        }
      },
      "execution_count": 28,
      "outputs": [
        {
          "output_type": "display_data",
          "data": {
            "text/html": [
              "<table class=\"dataframe\">\n",
              "<caption>A data.frame: 45 × 5</caption>\n",
              "<thead>\n",
              "\t<tr><th scope=col>Pclass</th><th scope=col>Name</th><th scope=col>Sex</th><th scope=col>Fare</th><th scope=col>Age</th></tr>\n",
              "\t<tr><th scope=col>&lt;int&gt;</th><th scope=col>&lt;chr&gt;</th><th scope=col>&lt;chr&gt;</th><th scope=col>&lt;dbl&gt;</th><th scope=col>&lt;dbl&gt;</th></tr>\n",
              "</thead>\n",
              "<tbody>\n",
              "\t<tr><td>3</td><td>Aks, Mrs. Sam (Leah Rosen)                     </td><td>female</td><td> 9.3500</td><td>18.00</td></tr>\n",
              "\t<tr><td>3</td><td>Andersen-Jensen, Miss. Carla Christine Nielsine</td><td>female</td><td> 7.8542</td><td>19.00</td></tr>\n",
              "\t<tr><td>3</td><td>Andersson, Miss. Ebba Iris Alfrida             </td><td>female</td><td>31.2750</td><td> 6.00</td></tr>\n",
              "\t<tr><td>3</td><td>Andersson, Miss. Ellis Anna Maria              </td><td>female</td><td>31.2750</td><td> 2.00</td></tr>\n",
              "\t<tr><td>3</td><td>Andersson, Miss. Erna Alexandra                </td><td>female</td><td> 7.9250</td><td>17.00</td></tr>\n",
              "\t<tr><td>3</td><td>Andersson, Miss. Ingeborg Constanzia           </td><td>female</td><td>31.2750</td><td> 9.00</td></tr>\n",
              "\t<tr><td>3</td><td>Andersson, Miss. Sigrid Elisabeth              </td><td>female</td><td>31.2750</td><td>11.00</td></tr>\n",
              "\t<tr><td>3</td><td>Arnold-Franchi, Mrs. Josef (Josefine Franchi)  </td><td>female</td><td>17.8000</td><td>18.00</td></tr>\n",
              "\t<tr><td>3</td><td>Asplund, Miss. Lillian Gertrud                 </td><td>female</td><td>31.3875</td><td> 5.00</td></tr>\n",
              "\t<tr><td>3</td><td>Attalah, Miss. Malake                          </td><td>female</td><td>14.4583</td><td>17.00</td></tr>\n",
              "\t<tr><td>3</td><td>Ayoub, Miss. Banoura                           </td><td>female</td><td> 7.2292</td><td>13.00</td></tr>\n",
              "\t<tr><td>3</td><td>Baclini, Miss. Eugenie                         </td><td>female</td><td>19.2583</td><td> 0.75</td></tr>\n",
              "\t<tr><td>3</td><td>Baclini, Miss. Helene Barbara                  </td><td>female</td><td>19.2583</td><td> 0.75</td></tr>\n",
              "\t<tr><td>3</td><td>Baclini, Miss. Marie Catherine                 </td><td>female</td><td>19.2583</td><td> 5.00</td></tr>\n",
              "\t<tr><td>3</td><td>Barbara, Miss. Saiide                          </td><td>female</td><td>14.4542</td><td>18.00</td></tr>\n",
              "\t<tr><td>3</td><td>Boulos, Miss. Nourelain                        </td><td>female</td><td>15.2458</td><td> 9.00</td></tr>\n",
              "\t<tr><td>3</td><td>Carr, Miss. Helen \"Ellen\"                      </td><td>female</td><td> 7.7500</td><td>16.00</td></tr>\n",
              "\t<tr><td>3</td><td>Devaney, Miss. Margaret Delia                  </td><td>female</td><td> 7.8792</td><td>19.00</td></tr>\n",
              "\t<tr><td>3</td><td>Emanuel, Miss. Virginia Ethel                  </td><td>female</td><td>12.4750</td><td> 5.00</td></tr>\n",
              "\t<tr><td>3</td><td>Ford, Miss. Robina Maggie \"Ruby\"               </td><td>female</td><td>34.3750</td><td> 9.00</td></tr>\n",
              "\t<tr><td>3</td><td>Gilnagh, Miss. Katherine \"Katie\"               </td><td>female</td><td> 7.7333</td><td>16.00</td></tr>\n",
              "\t<tr><td>3</td><td>Goodwin, Miss. Lillian Amy                     </td><td>female</td><td>46.9000</td><td>16.00</td></tr>\n",
              "\t<tr><td>3</td><td>Hegarty, Miss. Hanora \"Nora\"                   </td><td>female</td><td> 6.7500</td><td>18.00</td></tr>\n",
              "\t<tr><td>3</td><td>Hirvonen, Miss. Hildur E                       </td><td>female</td><td>12.2875</td><td> 2.00</td></tr>\n",
              "\t<tr><td>3</td><td>Johnson, Miss. Eleanor Ileen                   </td><td>female</td><td>11.1333</td><td> 1.00</td></tr>\n",
              "\t<tr><td>3</td><td>Karun, Miss. Manca                             </td><td>female</td><td>13.4167</td><td> 4.00</td></tr>\n",
              "\t<tr><td>3</td><td>Kink-Heilmann, Miss. Luise Gretchen            </td><td>female</td><td>22.0250</td><td> 4.00</td></tr>\n",
              "\t<tr><td>3</td><td>McGowan, Miss. Anna \"Annie\"                    </td><td>female</td><td> 8.0292</td><td>15.00</td></tr>\n",
              "\t<tr><td>3</td><td>Najib, Miss. Adele Kiamie \"Jane\"               </td><td>female</td><td> 7.2250</td><td>15.00</td></tr>\n",
              "\t<tr><td>3</td><td>Nakid, Miss. Maria (\"Mary\")                    </td><td>female</td><td>15.7417</td><td> 1.00</td></tr>\n",
              "\t<tr><td>3</td><td>Nicola-Yarred, Miss. Jamila                    </td><td>female</td><td>11.2417</td><td>14.00</td></tr>\n",
              "\t<tr><td>3</td><td>Palsson, Miss. Stina Viola                     </td><td>female</td><td>21.0750</td><td> 3.00</td></tr>\n",
              "\t<tr><td>3</td><td>Palsson, Miss. Torborg Danira                  </td><td>female</td><td>21.0750</td><td> 8.00</td></tr>\n",
              "\t<tr><td>3</td><td>Pettersson, Miss. Ellen Natalia                </td><td>female</td><td> 7.7750</td><td>18.00</td></tr>\n",
              "\t<tr><td>3</td><td>Sandstrom, Miss. Marguerite Rut                </td><td>female</td><td>16.7000</td><td> 4.00</td></tr>\n",
              "\t<tr><td>3</td><td>Sjoblom, Miss. Anna Sofia                      </td><td>female</td><td> 7.4958</td><td>18.00</td></tr>\n",
              "\t<tr><td>3</td><td>Skoog, Miss. Mabel                             </td><td>female</td><td>27.9000</td><td> 9.00</td></tr>\n",
              "\t<tr><td>3</td><td>Skoog, Miss. Margit Elizabeth                  </td><td>female</td><td>27.9000</td><td> 2.00</td></tr>\n",
              "\t<tr><td>3</td><td>Strom, Miss. Telma Matilda                     </td><td>female</td><td>10.4625</td><td> 2.00</td></tr>\n",
              "\t<tr><td>3</td><td>Turja, Miss. Anna Sofia                        </td><td>female</td><td> 9.8417</td><td>18.00</td></tr>\n",
              "\t<tr><td>3</td><td>Van Impe, Miss. Catharina                      </td><td>female</td><td>24.1500</td><td>10.00</td></tr>\n",
              "\t<tr><td>3</td><td>Vander Planke, Miss. Augusta Maria             </td><td>female</td><td>18.0000</td><td>18.00</td></tr>\n",
              "\t<tr><td>3</td><td>Vestrom, Miss. Hulda Amanda Adolfina           </td><td>female</td><td> 7.8542</td><td>14.00</td></tr>\n",
              "\t<tr><td>3</td><td>Yasbeck, Mrs. Antoni (Selini Alexander)        </td><td>female</td><td>14.4542</td><td>15.00</td></tr>\n",
              "\t<tr><td>3</td><td>Zabour, Miss. Hileni                           </td><td>female</td><td>14.4542</td><td>14.50</td></tr>\n",
              "</tbody>\n",
              "</table>\n"
            ],
            "text/markdown": "\nA data.frame: 45 × 5\n\n| Pclass &lt;int&gt; | Name &lt;chr&gt; | Sex &lt;chr&gt; | Fare &lt;dbl&gt; | Age &lt;dbl&gt; |\n|---|---|---|---|---|\n| 3 | Aks, Mrs. Sam (Leah Rosen)                      | female |  9.3500 | 18.00 |\n| 3 | Andersen-Jensen, Miss. Carla Christine Nielsine | female |  7.8542 | 19.00 |\n| 3 | Andersson, Miss. Ebba Iris Alfrida              | female | 31.2750 |  6.00 |\n| 3 | Andersson, Miss. Ellis Anna Maria               | female | 31.2750 |  2.00 |\n| 3 | Andersson, Miss. Erna Alexandra                 | female |  7.9250 | 17.00 |\n| 3 | Andersson, Miss. Ingeborg Constanzia            | female | 31.2750 |  9.00 |\n| 3 | Andersson, Miss. Sigrid Elisabeth               | female | 31.2750 | 11.00 |\n| 3 | Arnold-Franchi, Mrs. Josef (Josefine Franchi)   | female | 17.8000 | 18.00 |\n| 3 | Asplund, Miss. Lillian Gertrud                  | female | 31.3875 |  5.00 |\n| 3 | Attalah, Miss. Malake                           | female | 14.4583 | 17.00 |\n| 3 | Ayoub, Miss. Banoura                            | female |  7.2292 | 13.00 |\n| 3 | Baclini, Miss. Eugenie                          | female | 19.2583 |  0.75 |\n| 3 | Baclini, Miss. Helene Barbara                   | female | 19.2583 |  0.75 |\n| 3 | Baclini, Miss. Marie Catherine                  | female | 19.2583 |  5.00 |\n| 3 | Barbara, Miss. Saiide                           | female | 14.4542 | 18.00 |\n| 3 | Boulos, Miss. Nourelain                         | female | 15.2458 |  9.00 |\n| 3 | Carr, Miss. Helen \"Ellen\"                       | female |  7.7500 | 16.00 |\n| 3 | Devaney, Miss. Margaret Delia                   | female |  7.8792 | 19.00 |\n| 3 | Emanuel, Miss. Virginia Ethel                   | female | 12.4750 |  5.00 |\n| 3 | Ford, Miss. Robina Maggie \"Ruby\"                | female | 34.3750 |  9.00 |\n| 3 | Gilnagh, Miss. Katherine \"Katie\"                | female |  7.7333 | 16.00 |\n| 3 | Goodwin, Miss. Lillian Amy                      | female | 46.9000 | 16.00 |\n| 3 | Hegarty, Miss. Hanora \"Nora\"                    | female |  6.7500 | 18.00 |\n| 3 | Hirvonen, Miss. Hildur E                        | female | 12.2875 |  2.00 |\n| 3 | Johnson, Miss. Eleanor Ileen                    | female | 11.1333 |  1.00 |\n| 3 | Karun, Miss. Manca                              | female | 13.4167 |  4.00 |\n| 3 | Kink-Heilmann, Miss. Luise Gretchen             | female | 22.0250 |  4.00 |\n| 3 | McGowan, Miss. Anna \"Annie\"                     | female |  8.0292 | 15.00 |\n| 3 | Najib, Miss. Adele Kiamie \"Jane\"                | female |  7.2250 | 15.00 |\n| 3 | Nakid, Miss. Maria (\"Mary\")                     | female | 15.7417 |  1.00 |\n| 3 | Nicola-Yarred, Miss. Jamila                     | female | 11.2417 | 14.00 |\n| 3 | Palsson, Miss. Stina Viola                      | female | 21.0750 |  3.00 |\n| 3 | Palsson, Miss. Torborg Danira                   | female | 21.0750 |  8.00 |\n| 3 | Pettersson, Miss. Ellen Natalia                 | female |  7.7750 | 18.00 |\n| 3 | Sandstrom, Miss. Marguerite Rut                 | female | 16.7000 |  4.00 |\n| 3 | Sjoblom, Miss. Anna Sofia                       | female |  7.4958 | 18.00 |\n| 3 | Skoog, Miss. Mabel                              | female | 27.9000 |  9.00 |\n| 3 | Skoog, Miss. Margit Elizabeth                   | female | 27.9000 |  2.00 |\n| 3 | Strom, Miss. Telma Matilda                      | female | 10.4625 |  2.00 |\n| 3 | Turja, Miss. Anna Sofia                         | female |  9.8417 | 18.00 |\n| 3 | Van Impe, Miss. Catharina                       | female | 24.1500 | 10.00 |\n| 3 | Vander Planke, Miss. Augusta Maria              | female | 18.0000 | 18.00 |\n| 3 | Vestrom, Miss. Hulda Amanda Adolfina            | female |  7.8542 | 14.00 |\n| 3 | Yasbeck, Mrs. Antoni (Selini Alexander)         | female | 14.4542 | 15.00 |\n| 3 | Zabour, Miss. Hileni                            | female | 14.4542 | 14.50 |\n\n",
            "text/latex": "A data.frame: 45 × 5\n\\begin{tabular}{lllll}\n Pclass & Name & Sex & Fare & Age\\\\\n <int> & <chr> & <chr> & <dbl> & <dbl>\\\\\n\\hline\n\t 3 & Aks, Mrs. Sam (Leah Rosen)                      & female &  9.3500 & 18.00\\\\\n\t 3 & Andersen-Jensen, Miss. Carla Christine Nielsine & female &  7.8542 & 19.00\\\\\n\t 3 & Andersson, Miss. Ebba Iris Alfrida              & female & 31.2750 &  6.00\\\\\n\t 3 & Andersson, Miss. Ellis Anna Maria               & female & 31.2750 &  2.00\\\\\n\t 3 & Andersson, Miss. Erna Alexandra                 & female &  7.9250 & 17.00\\\\\n\t 3 & Andersson, Miss. Ingeborg Constanzia            & female & 31.2750 &  9.00\\\\\n\t 3 & Andersson, Miss. Sigrid Elisabeth               & female & 31.2750 & 11.00\\\\\n\t 3 & Arnold-Franchi, Mrs. Josef (Josefine Franchi)   & female & 17.8000 & 18.00\\\\\n\t 3 & Asplund, Miss. Lillian Gertrud                  & female & 31.3875 &  5.00\\\\\n\t 3 & Attalah, Miss. Malake                           & female & 14.4583 & 17.00\\\\\n\t 3 & Ayoub, Miss. Banoura                            & female &  7.2292 & 13.00\\\\\n\t 3 & Baclini, Miss. Eugenie                          & female & 19.2583 &  0.75\\\\\n\t 3 & Baclini, Miss. Helene Barbara                   & female & 19.2583 &  0.75\\\\\n\t 3 & Baclini, Miss. Marie Catherine                  & female & 19.2583 &  5.00\\\\\n\t 3 & Barbara, Miss. Saiide                           & female & 14.4542 & 18.00\\\\\n\t 3 & Boulos, Miss. Nourelain                         & female & 15.2458 &  9.00\\\\\n\t 3 & Carr, Miss. Helen \"Ellen\"                       & female &  7.7500 & 16.00\\\\\n\t 3 & Devaney, Miss. Margaret Delia                   & female &  7.8792 & 19.00\\\\\n\t 3 & Emanuel, Miss. Virginia Ethel                   & female & 12.4750 &  5.00\\\\\n\t 3 & Ford, Miss. Robina Maggie \"Ruby\"                & female & 34.3750 &  9.00\\\\\n\t 3 & Gilnagh, Miss. Katherine \"Katie\"                & female &  7.7333 & 16.00\\\\\n\t 3 & Goodwin, Miss. Lillian Amy                      & female & 46.9000 & 16.00\\\\\n\t 3 & Hegarty, Miss. Hanora \"Nora\"                    & female &  6.7500 & 18.00\\\\\n\t 3 & Hirvonen, Miss. Hildur E                        & female & 12.2875 &  2.00\\\\\n\t 3 & Johnson, Miss. Eleanor Ileen                    & female & 11.1333 &  1.00\\\\\n\t 3 & Karun, Miss. Manca                              & female & 13.4167 &  4.00\\\\\n\t 3 & Kink-Heilmann, Miss. Luise Gretchen             & female & 22.0250 &  4.00\\\\\n\t 3 & McGowan, Miss. Anna \"Annie\"                     & female &  8.0292 & 15.00\\\\\n\t 3 & Najib, Miss. Adele Kiamie \"Jane\"                & female &  7.2250 & 15.00\\\\\n\t 3 & Nakid, Miss. Maria (\"Mary\")                     & female & 15.7417 &  1.00\\\\\n\t 3 & Nicola-Yarred, Miss. Jamila                     & female & 11.2417 & 14.00\\\\\n\t 3 & Palsson, Miss. Stina Viola                      & female & 21.0750 &  3.00\\\\\n\t 3 & Palsson, Miss. Torborg Danira                   & female & 21.0750 &  8.00\\\\\n\t 3 & Pettersson, Miss. Ellen Natalia                 & female &  7.7750 & 18.00\\\\\n\t 3 & Sandstrom, Miss. Marguerite Rut                 & female & 16.7000 &  4.00\\\\\n\t 3 & Sjoblom, Miss. Anna Sofia                       & female &  7.4958 & 18.00\\\\\n\t 3 & Skoog, Miss. Mabel                              & female & 27.9000 &  9.00\\\\\n\t 3 & Skoog, Miss. Margit Elizabeth                   & female & 27.9000 &  2.00\\\\\n\t 3 & Strom, Miss. Telma Matilda                      & female & 10.4625 &  2.00\\\\\n\t 3 & Turja, Miss. Anna Sofia                         & female &  9.8417 & 18.00\\\\\n\t 3 & Van Impe, Miss. Catharina                       & female & 24.1500 & 10.00\\\\\n\t 3 & Vander Planke, Miss. Augusta Maria              & female & 18.0000 & 18.00\\\\\n\t 3 & Vestrom, Miss. Hulda Amanda Adolfina            & female &  7.8542 & 14.00\\\\\n\t 3 & Yasbeck, Mrs. Antoni (Selini Alexander)         & female & 14.4542 & 15.00\\\\\n\t 3 & Zabour, Miss. Hileni                            & female & 14.4542 & 14.50\\\\\n\\end{tabular}\n",
            "text/plain": [
              "   Pclass Name                                            Sex    Fare    Age  \n",
              "1  3      Aks, Mrs. Sam (Leah Rosen)                      female  9.3500 18.00\n",
              "2  3      Andersen-Jensen, Miss. Carla Christine Nielsine female  7.8542 19.00\n",
              "3  3      Andersson, Miss. Ebba Iris Alfrida              female 31.2750  6.00\n",
              "4  3      Andersson, Miss. Ellis Anna Maria               female 31.2750  2.00\n",
              "5  3      Andersson, Miss. Erna Alexandra                 female  7.9250 17.00\n",
              "6  3      Andersson, Miss. Ingeborg Constanzia            female 31.2750  9.00\n",
              "7  3      Andersson, Miss. Sigrid Elisabeth               female 31.2750 11.00\n",
              "8  3      Arnold-Franchi, Mrs. Josef (Josefine Franchi)   female 17.8000 18.00\n",
              "9  3      Asplund, Miss. Lillian Gertrud                  female 31.3875  5.00\n",
              "10 3      Attalah, Miss. Malake                           female 14.4583 17.00\n",
              "11 3      Ayoub, Miss. Banoura                            female  7.2292 13.00\n",
              "12 3      Baclini, Miss. Eugenie                          female 19.2583  0.75\n",
              "13 3      Baclini, Miss. Helene Barbara                   female 19.2583  0.75\n",
              "14 3      Baclini, Miss. Marie Catherine                  female 19.2583  5.00\n",
              "15 3      Barbara, Miss. Saiide                           female 14.4542 18.00\n",
              "16 3      Boulos, Miss. Nourelain                         female 15.2458  9.00\n",
              "17 3      Carr, Miss. Helen \"Ellen\"                       female  7.7500 16.00\n",
              "18 3      Devaney, Miss. Margaret Delia                   female  7.8792 19.00\n",
              "19 3      Emanuel, Miss. Virginia Ethel                   female 12.4750  5.00\n",
              "20 3      Ford, Miss. Robina Maggie \"Ruby\"                female 34.3750  9.00\n",
              "21 3      Gilnagh, Miss. Katherine \"Katie\"                female  7.7333 16.00\n",
              "22 3      Goodwin, Miss. Lillian Amy                      female 46.9000 16.00\n",
              "23 3      Hegarty, Miss. Hanora \"Nora\"                    female  6.7500 18.00\n",
              "24 3      Hirvonen, Miss. Hildur E                        female 12.2875  2.00\n",
              "25 3      Johnson, Miss. Eleanor Ileen                    female 11.1333  1.00\n",
              "26 3      Karun, Miss. Manca                              female 13.4167  4.00\n",
              "27 3      Kink-Heilmann, Miss. Luise Gretchen             female 22.0250  4.00\n",
              "28 3      McGowan, Miss. Anna \"Annie\"                     female  8.0292 15.00\n",
              "29 3      Najib, Miss. Adele Kiamie \"Jane\"                female  7.2250 15.00\n",
              "30 3      Nakid, Miss. Maria (\"Mary\")                     female 15.7417  1.00\n",
              "31 3      Nicola-Yarred, Miss. Jamila                     female 11.2417 14.00\n",
              "32 3      Palsson, Miss. Stina Viola                      female 21.0750  3.00\n",
              "33 3      Palsson, Miss. Torborg Danira                   female 21.0750  8.00\n",
              "34 3      Pettersson, Miss. Ellen Natalia                 female  7.7750 18.00\n",
              "35 3      Sandstrom, Miss. Marguerite Rut                 female 16.7000  4.00\n",
              "36 3      Sjoblom, Miss. Anna Sofia                       female  7.4958 18.00\n",
              "37 3      Skoog, Miss. Mabel                              female 27.9000  9.00\n",
              "38 3      Skoog, Miss. Margit Elizabeth                   female 27.9000  2.00\n",
              "39 3      Strom, Miss. Telma Matilda                      female 10.4625  2.00\n",
              "40 3      Turja, Miss. Anna Sofia                         female  9.8417 18.00\n",
              "41 3      Van Impe, Miss. Catharina                       female 24.1500 10.00\n",
              "42 3      Vander Planke, Miss. Augusta Maria              female 18.0000 18.00\n",
              "43 3      Vestrom, Miss. Hulda Amanda Adolfina            female  7.8542 14.00\n",
              "44 3      Yasbeck, Mrs. Antoni (Selini Alexander)         female 14.4542 15.00\n",
              "45 3      Zabour, Miss. Hileni                            female 14.4542 14.50"
            ]
          },
          "metadata": {}
        }
      ]
    },
    {
      "cell_type": "markdown",
      "source": [
        "#  Built-In Data"
      ],
      "metadata": {
        "id": "95oBmv8Z80bS"
      }
    },
    {
      "cell_type": "code",
      "source": [
        "# you can call them by name\n",
        "  # example: just call InsectSprays or starwars and the data will be there"
      ],
      "metadata": {
        "id": "gWJoSZBQ83i_"
      },
      "execution_count": 30,
      "outputs": []
    },
    {
      "cell_type": "code",
      "source": [],
      "metadata": {
        "id": "T5pN_E2E93lN"
      },
      "execution_count": null,
      "outputs": []
    }
  ]
}