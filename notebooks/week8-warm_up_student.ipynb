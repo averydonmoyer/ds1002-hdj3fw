{
  "cells": [
    {
      "cell_type": "markdown",
      "metadata": {
        "id": "view-in-github",
        "colab_type": "text"
      },
      "source": [
        "<a href=\"https://colab.research.google.com/github/averydonmoyer/ds1002-hdj3fw/blob/main/notebooks/week8-warm_up_student.ipynb\" target=\"_parent\"><img src=\"https://colab.research.google.com/assets/colab-badge.svg\" alt=\"Open In Colab\"/></a>"
      ]
    },
    {
      "cell_type": "markdown",
      "metadata": {
        "id": "zjanBhX9WjtJ"
      },
      "source": [
        "# Warm-up - Boolean Operators\n",
        "\n",
        "Python has THREE boolean operators, also known as \"logical\" operators:\n",
        "\n",
        "- `and`\n",
        "- `or`\n",
        "- `not`\n",
        "\n",
        "Evaluating other python expressions using these boolean operators returns a \"boolean\" reply: `True` or `False`."
      ]
    },
    {
      "cell_type": "code",
      "execution_count": 1,
      "metadata": {
        "id": "5nYXTcRDWjtL"
      },
      "outputs": [],
      "source": [
        "# Define variables\n",
        "my_float = 18.0\n",
        "your_float = 14.0"
      ]
    },
    {
      "cell_type": "markdown",
      "metadata": {
        "id": "BL2wPegvWjtM"
      },
      "source": [
        "1. `my_float` bigger than 10 and smaller than 18?  \n",
        "(use a boolean operator)"
      ]
    },
    {
      "cell_type": "code",
      "execution_count": 5,
      "metadata": {
        "id": "UXuoQsaIWjtM",
        "outputId": "b159c4ff-f146-48ed-8c20-588427fc571b",
        "colab": {
          "base_uri": "https://localhost:8080/"
        }
      },
      "outputs": [
        {
          "output_type": "stream",
          "name": "stdout",
          "text": [
            "True\n",
            "True\n"
          ]
        }
      ],
      "source": [
        "print(10 < my_float <= 18)\n",
        "\n",
        "print(my_float > 10 and my_float <= 18)"
      ]
    },
    {
      "cell_type": "markdown",
      "metadata": {
        "id": "VMJqD1mOWjtM"
      },
      "source": [
        "2. `my_float` smaller than 14 or bigger than 17?  \n",
        "(use a boolean operator)"
      ]
    },
    {
      "cell_type": "code",
      "execution_count": 7,
      "metadata": {
        "id": "UeSicTQuWjtM",
        "outputId": "df805247-9adc-40d3-e1b9-ff83b7e349fd",
        "colab": {
          "base_uri": "https://localhost:8080/"
        }
      },
      "outputs": [
        {
          "output_type": "stream",
          "name": "stdout",
          "text": [
            "True\n"
          ]
        }
      ],
      "source": [
        "print(my_float < 14 or my_float > 17)"
      ]
    },
    {
      "cell_type": "markdown",
      "metadata": {
        "id": "eqV9yn6BWjtM"
      },
      "source": [
        "3. Double `my_float` smaller than triple `your_float`?"
      ]
    },
    {
      "cell_type": "code",
      "execution_count": 8,
      "metadata": {
        "id": "Xia2m-nfWjtM",
        "outputId": "acfce574-8c76-4dca-b47d-353b686f09a6",
        "colab": {
          "base_uri": "https://localhost:8080/"
        }
      },
      "outputs": [
        {
          "output_type": "execute_result",
          "data": {
            "text/plain": [
              "True"
            ]
          },
          "metadata": {},
          "execution_count": 8
        }
      ],
      "source": [
        "my_float * 2 < your_float * 3"
      ]
    },
    {
      "cell_type": "markdown",
      "metadata": {
        "id": "EMPkl0olWjtN"
      },
      "source": [
        "4.\n",
        "`x = 8`  \n",
        "`y = 9`  \n",
        "`not(not(x < 3) and not(y > 14 or y > 10))`  \n",
        "\n",
        "---\n",
        "\n",
        "What will be the result if you execute these statements? (refrain from actually running - use your brain)   \n",
        "a. True  \n",
        "b. False  \n",
        "c. An error  \n",
        "\n",
        "*note: `not` has a higher priority than `and` and `or`; it is executed first*"
      ]
    },
    {
      "cell_type": "code",
      "execution_count": 9,
      "metadata": {
        "id": "GYRWw4EUWjtN",
        "outputId": "4386afed-d625-42b0-91ef-d8418721a9a8",
        "colab": {
          "base_uri": "https://localhost:8080/"
        }
      },
      "outputs": [
        {
          "output_type": "execute_result",
          "data": {
            "text/plain": [
              "False"
            ]
          },
          "metadata": {},
          "execution_count": 9
        }
      ],
      "source": [
        "x = 8\n",
        "y = 9\n",
        "not(not(x < 3) and not(y > 14 or y > 10))"
      ]
    },
    {
      "cell_type": "code",
      "source": [
        "print(True or True)\n",
        "print(True or False)\n",
        "print(False or True)\n",
        "print(False or False)"
      ],
      "metadata": {
        "id": "x7dkmKKF0GMn",
        "outputId": "d62a812b-a460-4b8f-9d7b-69d6e380dc0a",
        "colab": {
          "base_uri": "https://localhost:8080/"
        }
      },
      "execution_count": 11,
      "outputs": [
        {
          "output_type": "stream",
          "name": "stdout",
          "text": [
            "True\n",
            "True\n",
            "True\n",
            "False\n"
          ]
        }
      ]
    }
  ],
  "metadata": {
    "kernelspec": {
      "display_name": "Python 3.8.9 64-bit",
      "language": "python",
      "name": "python3"
    },
    "language_info": {
      "codemirror_mode": {
        "name": "ipython",
        "version": 3
      },
      "file_extension": ".py",
      "mimetype": "text/x-python",
      "name": "python",
      "nbconvert_exporter": "python",
      "pygments_lexer": "ipython3",
      "version": "3.8.9"
    },
    "orig_nbformat": 4,
    "vscode": {
      "interpreter": {
        "hash": "31f2aee4e71d21fbe5cf8b01ff0e069b9275f58929596ceb00d14d90e3e16cd6"
      }
    },
    "colab": {
      "provenance": [],
      "include_colab_link": true
    }
  },
  "nbformat": 4,
  "nbformat_minor": 0
}