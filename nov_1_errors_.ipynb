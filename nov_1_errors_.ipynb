{
  "nbformat": 4,
  "nbformat_minor": 0,
  "metadata": {
    "colab": {
      "provenance": [],
      "authorship_tag": "ABX9TyPio7TH5hRkMscKx1Pm9Q1x",
      "include_colab_link": true
    },
    "kernelspec": {
      "name": "python3",
      "display_name": "Python 3"
    },
    "language_info": {
      "name": "python"
    }
  },
  "cells": [
    {
      "cell_type": "markdown",
      "metadata": {
        "id": "view-in-github",
        "colab_type": "text"
      },
      "source": [
        "<a href=\"https://colab.research.google.com/github/averydonmoyer/ds1002-hdj3fw/blob/main/nov_1_errors_.ipynb\" target=\"_parent\"><img src=\"https://colab.research.google.com/assets/colab-badge.svg\" alt=\"Open In Colab\"/></a>"
      ]
    },
    {
      "cell_type": "code",
      "execution_count": null,
      "metadata": {
        "colab": {
          "base_uri": "https://localhost:8080/"
        },
        "id": "01ZkL6lBOR6K",
        "outputId": "297d2121-3c68-4425-9b14-5a2ec0cb003c"
      },
      "outputs": [
        {
          "output_type": "stream",
          "name": "stdout",
          "text": [
            "the first element is 5\n",
            "An indexing error had occurred\n"
          ]
        }
      ],
      "source": [
        "mylist = [5, 6, 7]\n",
        "\n",
        "try:\n",
        "  print(\"the first element is \" + str(mylist[0]))\n",
        "  print(\"The fourth element is \" + str(mylist[3]))\n",
        "\n",
        "except IndexError:\n",
        "  print(\"An indexing error had occurred\")\n",
        "\n",
        "except ValueError:\n",
        "  print(\"An error in value has occurre\")\n",
        "\n",
        "else:\n",
        "  print(\"I have tried everything\")"
      ]
    },
    {
      "cell_type": "code",
      "source": [
        "mylist = [5,6,7]\n",
        "\n",
        "try:\n",
        "  print(\"the first element is \" + str(mylist[0]))\n",
        "  print(\"The fourth element is \" + str(mylist[3]))\n",
        "\n",
        "except Exception as e:\n",
        "  print(f\"An error has occurred: {e}\")\n",
        "\n",
        "# finally:\n",
        "  # this is something that must run whether the process succeeded or excepted"
      ],
      "metadata": {
        "colab": {
          "base_uri": "https://localhost:8080/"
        },
        "id": "KygXTISxPIZt",
        "outputId": "1ea52623-7083-486a-96fe-3017cf3fb2f4"
      },
      "execution_count": null,
      "outputs": [
        {
          "output_type": "stream",
          "name": "stdout",
          "text": [
            "the first element is 5\n",
            "An error has occurred: list index out of range\n"
          ]
        }
      ]
    },
    {
      "cell_type": "markdown",
      "source": [
        "# CLASS WORK"
      ],
      "metadata": {
        "id": "RbidRnzpQ7-6"
      }
    },
    {
      "cell_type": "code",
      "source": [
        "def fetch(obj, index):\n",
        "  return obj[index]"
      ],
      "metadata": {
        "id": "iltgxSt-Q3vj"
      },
      "execution_count": null,
      "outputs": []
    },
    {
      "cell_type": "code",
      "source": [
        "fetch(\"moon\",3)"
      ],
      "metadata": {
        "colab": {
          "base_uri": "https://localhost:8080/",
          "height": 35
        },
        "id": "iJVESQQdQ_Ra",
        "outputId": "080c47fb-304b-465c-f9b6-40e520f29c8d"
      },
      "execution_count": null,
      "outputs": [
        {
          "output_type": "execute_result",
          "data": {
            "text/plain": [
              "'n'"
            ],
            "application/vnd.google.colaboratory.intrinsic+json": {
              "type": "string"
            }
          },
          "metadata": {},
          "execution_count": 6
        }
      ]
    },
    {
      "cell_type": "code",
      "source": [
        "fetch(\"moon\",4)"
      ],
      "metadata": {
        "colab": {
          "base_uri": "https://localhost:8080/",
          "height": 250
        },
        "id": "4is5e9tuRCYz",
        "outputId": "0e2b40f7-e96e-47fb-c0dd-7afc9f5306ff"
      },
      "execution_count": null,
      "outputs": [
        {
          "output_type": "error",
          "ename": "IndexError",
          "evalue": "ignored",
          "traceback": [
            "\u001b[0;31m---------------------------------------------------------------------------\u001b[0m",
            "\u001b[0;31mIndexError\u001b[0m                                Traceback (most recent call last)",
            "\u001b[0;32m<ipython-input-7-1b96efac9c14>\u001b[0m in \u001b[0;36m<cell line: 1>\u001b[0;34m()\u001b[0m\n\u001b[0;32m----> 1\u001b[0;31m \u001b[0mfetch\u001b[0m\u001b[0;34m(\u001b[0m\u001b[0;34m\"moon\"\u001b[0m\u001b[0;34m,\u001b[0m\u001b[0;36m4\u001b[0m\u001b[0;34m)\u001b[0m\u001b[0;34m\u001b[0m\u001b[0;34m\u001b[0m\u001b[0m\n\u001b[0m",
            "\u001b[0;32m<ipython-input-5-8c29073bd727>\u001b[0m in \u001b[0;36mfetch\u001b[0;34m(obj, index)\u001b[0m\n\u001b[1;32m      1\u001b[0m \u001b[0;32mdef\u001b[0m \u001b[0mfetch\u001b[0m\u001b[0;34m(\u001b[0m\u001b[0mobj\u001b[0m\u001b[0;34m,\u001b[0m \u001b[0mindex\u001b[0m\u001b[0;34m)\u001b[0m\u001b[0;34m:\u001b[0m\u001b[0;34m\u001b[0m\u001b[0;34m\u001b[0m\u001b[0m\n\u001b[0;32m----> 2\u001b[0;31m   \u001b[0;32mreturn\u001b[0m \u001b[0mobj\u001b[0m\u001b[0;34m[\u001b[0m\u001b[0mindex\u001b[0m\u001b[0;34m]\u001b[0m\u001b[0;34m\u001b[0m\u001b[0;34m\u001b[0m\u001b[0m\n\u001b[0m",
            "\u001b[0;31mIndexError\u001b[0m: string index out of range"
          ]
        }
      ]
    },
    {
      "cell_type": "code",
      "source": [
        "def fetch_again(obj,index):\n",
        "  try:\n",
        "    return obj[index]\n",
        "  except Exception as e:\n",
        "    print(f\"Exception caught: {e}\")"
      ],
      "metadata": {
        "id": "FoFLbFCWRYBh"
      },
      "execution_count": null,
      "outputs": []
    },
    {
      "cell_type": "code",
      "source": [
        "fetch_again(\"moon\",4)"
      ],
      "metadata": {
        "colab": {
          "base_uri": "https://localhost:8080/"
        },
        "id": "DaFbXSEMRmb_",
        "outputId": "42bca867-ddf6-45a6-efcd-c4bd063b6e75"
      },
      "execution_count": null,
      "outputs": [
        {
          "output_type": "stream",
          "name": "stdout",
          "text": [
            "Exception caught: string index out of range\n"
          ]
        }
      ]
    },
    {
      "cell_type": "markdown",
      "source": [
        "# Specific Exception Types"
      ],
      "metadata": {
        "id": "l34YoEF1SFpt"
      }
    },
    {
      "cell_type": "code",
      "source": [
        "try:\n",
        "  f = open('myfile.txt')\n",
        "  s = f.readline()\n",
        "  i = int(s.strip())\n",
        "\n",
        "except IOError as e:\n",
        "    print(f\"Exception caught: {e}\")\n",
        "\n",
        "# except IOError as (errno, strerror):\n",
        "  # print(\"I/O error({0})\")\n",
        "# execept ValueError:\n",
        "  # print(\"Could no convert data to an integer.\")\n",
        "# except:\n",
        "  # print(\"Unexpected error:\", sys.exc_info()[0])\n",
        "  # raise"
      ],
      "metadata": {
        "colab": {
          "base_uri": "https://localhost:8080/"
        },
        "id": "AAX6b3FjSEu8",
        "outputId": "5780ef3c-0f08-4a8e-d54d-638f140d16cf"
      },
      "execution_count": null,
      "outputs": [
        {
          "output_type": "stream",
          "name": "stdout",
          "text": [
            "Exception caught: [Errno 2] No such file or directory: 'myfile.txt'\n"
          ]
        }
      ]
    },
    {
      "cell_type": "code",
      "source": [
        "def foolme():\n",
        "  try:\n",
        "    raise IndexError(\"blah blah\")\n",
        "  except Exception as e:\n",
        "    print(f\"An exception has been thrown: {e}\")\n",
        "  else:\n",
        "    print(\"Else has happened\")\n",
        "  finally:\n",
        "    print(\"Finally has happened\")\n",
        "\n",
        "foolme()"
      ],
      "metadata": {
        "colab": {
          "base_uri": "https://localhost:8080/"
        },
        "id": "ikVgiXxTTLhF",
        "outputId": "be706b10-b878-4522-e614-1b2880e85f40"
      },
      "execution_count": null,
      "outputs": [
        {
          "output_type": "stream",
          "name": "stdout",
          "text": [
            "An exception has been thrown: blah blah\n",
            "Finally has happened\n"
          ]
        }
      ]
    }
  ]
}