{
  "nbformat": 4,
  "nbformat_minor": 0,
  "metadata": {
    "colab": {
      "provenance": [],
      "authorship_tag": "ABX9TyNdINkJmNUZrA8z1RB7JYOn",
      "include_colab_link": true
    },
    "kernelspec": {
      "name": "python3",
      "display_name": "Python 3"
    },
    "language_info": {
      "name": "python"
    }
  },
  "cells": [
    {
      "cell_type": "markdown",
      "metadata": {
        "id": "view-in-github",
        "colab_type": "text"
      },
      "source": [
        "<a href=\"https://colab.research.google.com/github/averydonmoyer/ds1002-hdj3fw/blob/main/10_27_printing_options.ipynb\" target=\"_parent\"><img src=\"https://colab.research.google.com/assets/colab-badge.svg\" alt=\"Open In Colab\"/></a>"
      ]
    },
    {
      "cell_type": "code",
      "execution_count": 8,
      "metadata": {
        "colab": {
          "base_uri": "https://localhost:8080/"
        },
        "id": "z6gspHiadPIF",
        "outputId": "b7e15fcf-c1f6-4bf1-a771-02d5da1b08ef"
      },
      "outputs": [
        {
          "output_type": "stream",
          "name": "stdout",
          "text": [
            "The name of this band is Talking Heads and it has 4 members\n",
            "The name of this band is Talking Heads and it has 4 members\n",
            "The name of this band is Talking Heads and it has 5 members\n",
            "The name of this band is Talking Heads and it has 4 members\n"
          ]
        }
      ],
      "source": [
        "# print\n",
        "\n",
        "band = \"Talking Heads\"\n",
        "member_count = 4\n",
        "\n",
        "# old-school method of concatonating the variables\n",
        "print(\"The name of this band is \" + band + \" and it has \" + str(member_count) + \" members\")\n",
        "\n",
        "# the Tuple method\n",
        "print(\"The name of this band is\", band, \"and it has\", member_count, \"members\")\n",
        "  # uses commas instead of concatonating\n",
        "  # also don't have to worry about data types (str vs int etc)\n",
        "\n",
        "  # can also do functions within the Tuple method\n",
        "print(\"The name of this band is\", band, \"and it has\", member_count + 1, \"members\")\n",
        "\n",
        "# the F-string method\n",
        "print(f\"The name of this band is {band} and it has {member_count} members\")"
      ]
    },
    {
      "cell_type": "code",
      "source": [
        "# function output\n",
        "\n",
        "mylist = [1, 223, 4, 25, 24]\n",
        "\n",
        "def return_my_list():\n",
        "  return mylist\n",
        "\n",
        "var1 = return_my_list()\n",
        "print(var1)"
      ],
      "metadata": {
        "colab": {
          "base_uri": "https://localhost:8080/"
        },
        "id": "zkGeIMT0gL2Z",
        "outputId": "c24e4fa6-6a96-43f6-b3d1-c35fe540bda7"
      },
      "execution_count": 12,
      "outputs": [
        {
          "output_type": "stream",
          "name": "stdout",
          "text": [
            "[1, 223, 4, 25, 24]\n"
          ]
        }
      ]
    },
    {
      "cell_type": "code",
      "source": [
        "def simple_function(x,y,z):\n",
        "  return x + y + z\n",
        "\n",
        "simple_function(5,6,7)\n",
        "\n",
        "simple_function(z=3,y=14,x=2)"
      ],
      "metadata": {
        "colab": {
          "base_uri": "https://localhost:8080/"
        },
        "id": "nKj4dsS3iNvA",
        "outputId": "0a0eb30e-2a53-480e-cf76-752a4375cb06"
      },
      "execution_count": 17,
      "outputs": [
        {
          "output_type": "execute_result",
          "data": {
            "text/plain": [
              "19"
            ]
          },
          "metadata": {},
          "execution_count": 17
        }
      ]
    },
    {
      "cell_type": "code",
      "source": [
        "class Cars:\n",
        "  def __init__(self, x, y):\n",
        "    self.x = x\n",
        "    self.y = y\n",
        "\n",
        "  def multiply_them(self, x, y):\n",
        "    return self.x * self.y"
      ],
      "metadata": {
        "id": "n9kQtAinh-Cs"
      },
      "execution_count": 18,
      "outputs": []
    },
    {
      "cell_type": "code",
      "source": [
        "class Records:\n",
        "  var1 = \"Rockets\"\n",
        "  var2 = \"Bananas\""
      ],
      "metadata": {
        "id": "UtGPLru-kIRc"
      },
      "execution_count": 19,
      "outputs": []
    },
    {
      "cell_type": "code",
      "source": [
        "Records.var1"
      ],
      "metadata": {
        "colab": {
          "base_uri": "https://localhost:8080/",
          "height": 35
        },
        "id": "fv9u-Mz0kM3T",
        "outputId": "95e0b20c-02f7-43a6-e3e1-15eb5f47f6c9"
      },
      "execution_count": 20,
      "outputs": [
        {
          "output_type": "execute_result",
          "data": {
            "text/plain": [
              "'Rockets'"
            ],
            "application/vnd.google.colaboratory.intrinsic+json": {
              "type": "string"
            }
          },
          "metadata": {},
          "execution_count": 20
        }
      ]
    },
    {
      "cell_type": "code",
      "source": [
        "record1 = Records()"
      ],
      "metadata": {
        "id": "XdP8LVggkb-Z"
      },
      "execution_count": 21,
      "outputs": []
    },
    {
      "cell_type": "code",
      "source": [
        "record1.var1"
      ],
      "metadata": {
        "colab": {
          "base_uri": "https://localhost:8080/",
          "height": 35
        },
        "id": "V-VH-ldtkd5z",
        "outputId": "274c1834-c703-496d-a663-481d3818fc28"
      },
      "execution_count": 22,
      "outputs": [
        {
          "output_type": "execute_result",
          "data": {
            "text/plain": [
              "'Rockets'"
            ],
            "application/vnd.google.colaboratory.intrinsic+json": {
              "type": "string"
            }
          },
          "metadata": {},
          "execution_count": 22
        }
      ]
    },
    {
      "cell_type": "code",
      "source": [
        "record1.var1 = \"Mopeds\"\n",
        "\n",
        "record1.var1"
      ],
      "metadata": {
        "colab": {
          "base_uri": "https://localhost:8080/",
          "height": 35
        },
        "id": "EyX4Pbr4kgQo",
        "outputId": "7efb1e2b-36a3-4d92-dbf8-e12c84f5ddf9"
      },
      "execution_count": 24,
      "outputs": [
        {
          "output_type": "execute_result",
          "data": {
            "text/plain": [
              "'Mopeds'"
            ],
            "application/vnd.google.colaboratory.intrinsic+json": {
              "type": "string"
            }
          },
          "metadata": {},
          "execution_count": 24
        }
      ]
    },
    {
      "cell_type": "code",
      "source": [
        "Records.var1\n",
        "# haven't altered the class above, just one instance"
      ],
      "metadata": {
        "colab": {
          "base_uri": "https://localhost:8080/",
          "height": 35
        },
        "id": "ZCFH4Tohkpt4",
        "outputId": "af2de53a-1958-41af-9909-792c242cbd7d"
      },
      "execution_count": 25,
      "outputs": [
        {
          "output_type": "execute_result",
          "data": {
            "text/plain": [
              "'Rockets'"
            ],
            "application/vnd.google.colaboratory.intrinsic+json": {
              "type": "string"
            }
          },
          "metadata": {},
          "execution_count": 25
        }
      ]
    }
  ]
}