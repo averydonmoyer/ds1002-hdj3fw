{
  "nbformat": 4,
  "nbformat_minor": 0,
  "metadata": {
    "colab": {
      "provenance": [],
      "authorship_tag": "ABX9TyPtAa8cGLQU+mnzCLW+OJp+",
      "include_colab_link": true
    },
    "kernelspec": {
      "name": "python3",
      "display_name": "Python 3"
    },
    "language_info": {
      "name": "python"
    }
  },
  "cells": [
    {
      "cell_type": "markdown",
      "metadata": {
        "id": "view-in-github",
        "colab_type": "text"
      },
      "source": [
        "<a href=\"https://colab.research.google.com/github/averydonmoyer/ds1002-hdj3fw/blob/main/warm_up_10_16_%E2%80%94_functions.ipynb\" target=\"_parent\"><img src=\"https://colab.research.google.com/assets/colab-badge.svg\" alt=\"Open In Colab\"/></a>"
      ]
    },
    {
      "cell_type": "markdown",
      "source": [
        "## Warm Up"
      ],
      "metadata": {
        "id": "LrlUY7u-HsXj"
      }
    },
    {
      "cell_type": "code",
      "source": [
        "# Write a function that takes TWO integer parameters.\n",
        "# The function should range from the first integer to the second\n",
        "# The function should then evaluate each integer and determine whether\n",
        "# it is even or add, and print that out (for every item)\n",
        "\n",
        "def even_or_odd(start,finish):\n",
        "  for i in range(start,finish):\n",
        "    if i % 2 == 0:\n",
        "      # print something\n",
        "      print(i, \"is an even number\")\n",
        "    else:\n",
        "      # print something\n",
        "      print(i, \"is an odd number\")"
      ],
      "metadata": {
        "id": "KUUFSXMzGFEl"
      },
      "execution_count": 5,
      "outputs": []
    },
    {
      "cell_type": "code",
      "execution_count": 7,
      "metadata": {
        "colab": {
          "base_uri": "https://localhost:8080/"
        },
        "id": "5fkFGuivGDVh",
        "outputId": "3f012439-63bb-428b-c003-f809b5201a82"
      },
      "outputs": [
        {
          "output_type": "stream",
          "name": "stdout",
          "text": [
            "1 is an odd number\n",
            "2 is an even number\n",
            "3 is an odd number\n",
            "4 is an even number\n",
            "5 is an odd number\n",
            "6 is an even number\n",
            "7 is an odd number\n",
            "8 is an even number\n",
            "9 is an odd number\n",
            "10 is an even number\n",
            "11 is an odd number\n",
            "12 is an even number\n",
            "13 is an odd number\n",
            "14 is an even number\n"
          ]
        }
      ],
      "source": [
        "even_or_odd(1,15)"
      ]
    },
    {
      "cell_type": "code",
      "source": [
        "start = 30\n",
        "finish = 50\n",
        "\n",
        "even_or_odd(start,finish)"
      ],
      "metadata": {
        "colab": {
          "base_uri": "https://localhost:8080/"
        },
        "id": "psr086l_I6Aq",
        "outputId": "cc4ad60a-1b86-442a-96cb-9a8ae09e5f5b"
      },
      "execution_count": 8,
      "outputs": [
        {
          "output_type": "stream",
          "name": "stdout",
          "text": [
            "30 is an even number\n",
            "31 is an odd number\n",
            "32 is an even number\n",
            "33 is an odd number\n",
            "34 is an even number\n",
            "35 is an odd number\n",
            "36 is an even number\n",
            "37 is an odd number\n",
            "38 is an even number\n",
            "39 is an odd number\n",
            "40 is an even number\n",
            "41 is an odd number\n",
            "42 is an even number\n",
            "43 is an odd number\n",
            "44 is an even number\n",
            "45 is an odd number\n",
            "46 is an even number\n",
            "47 is an odd number\n",
            "48 is an even number\n",
            "49 is an odd number\n"
          ]
        }
      ]
    }
  ]
}